{
 "cells": [
  {
   "cell_type": "markdown",
   "id": "51d61e67",
   "metadata": {},
   "source": [
    "## Reading from JSON\n",
    "#### We can also directly read data in JSON format from <b>URL</b>"
   ]
  },
  {
   "cell_type": "markdown",
   "id": "932263b5",
   "metadata": {},
   "source": []
  }
 ],
 "metadata": {
  "kernelspec": {
   "display_name": ".venv",
   "language": "python",
   "name": "python3"
  },
  "language_info": {
   "name": "python",
   "version": "3.10.12"
  }
 },
 "nbformat": 4,
 "nbformat_minor": 5
}
