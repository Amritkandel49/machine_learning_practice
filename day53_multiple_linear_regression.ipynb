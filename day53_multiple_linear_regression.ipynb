{
 "cells": [
  {
   "cell_type": "code",
   "execution_count": 10,
   "id": "1a1451fb",
   "metadata": {},
   "outputs": [],
   "source": [
    "\n",
    "from sklearn.datasets import make_regression\n",
    "import numpy as np\n",
    "import pandas as pd\n"
   ]
  },
  {
   "cell_type": "code",
   "execution_count": 11,
   "id": "2bf0d1eb",
   "metadata": {},
   "outputs": [
    {
     "name": "stdout",
     "output_type": "stream",
     "text": [
      "Requirement already satisfied: plotly in ./simple_project/.venv/lib/python3.10/site-packages (6.1.1)\n",
      "Requirement already satisfied: narwhals>=1.15.1 in ./simple_project/.venv/lib/python3.10/site-packages (from plotly) (1.41.0)\n",
      "Requirement already satisfied: packaging in ./simple_project/.venv/lib/python3.10/site-packages (from plotly) (25.0)\n"
     ]
    }
   ],
   "source": [
    "! pip install plotly"
   ]
  },
  {
   "cell_type": "code",
   "execution_count": 12,
   "id": "69d11f55",
   "metadata": {},
   "outputs": [],
   "source": [
    "import plotly.express as px\n",
    "import plotly.graph_objects as go \n",
    "\n",
    "from sklearn.metrics import mean_squared_error, mean_absolute_error, root_mean_squared_error, r2_score"
   ]
  },
  {
   "cell_type": "code",
   "execution_count": 13,
   "id": "9ee18b77",
   "metadata": {},
   "outputs": [],
   "source": [
    "X, y = make_regression(n_samples=100, n_features=2, n_informative=2, n_targets=1, noise=50)"
   ]
  },
  {
   "cell_type": "code",
   "execution_count": 14,
   "id": "4b3bbf06",
   "metadata": {},
   "outputs": [],
   "source": [
    "\n",
    "df = pd.DataFrame({'feature1':X[:,0], 'feature2':X[:, 1], 'target':y})"
   ]
  },
  {
   "cell_type": "code",
   "execution_count": 15,
   "id": "36ec3163",
   "metadata": {},
   "outputs": [
    {
     "data": {
      "text/html": [
       "<div>\n",
       "<style scoped>\n",
       "    .dataframe tbody tr th:only-of-type {\n",
       "        vertical-align: middle;\n",
       "    }\n",
       "\n",
       "    .dataframe tbody tr th {\n",
       "        vertical-align: top;\n",
       "    }\n",
       "\n",
       "    .dataframe thead th {\n",
       "        text-align: right;\n",
       "    }\n",
       "</style>\n",
       "<table border=\"1\" class=\"dataframe\">\n",
       "  <thead>\n",
       "    <tr style=\"text-align: right;\">\n",
       "      <th></th>\n",
       "      <th>feature1</th>\n",
       "      <th>feature2</th>\n",
       "      <th>target</th>\n",
       "    </tr>\n",
       "  </thead>\n",
       "  <tbody>\n",
       "    <tr>\n",
       "      <th>0</th>\n",
       "      <td>0.518811</td>\n",
       "      <td>-1.530777</td>\n",
       "      <td>54.120519</td>\n",
       "    </tr>\n",
       "    <tr>\n",
       "      <th>1</th>\n",
       "      <td>-0.088871</td>\n",
       "      <td>-0.116025</td>\n",
       "      <td>-41.393501</td>\n",
       "    </tr>\n",
       "    <tr>\n",
       "      <th>2</th>\n",
       "      <td>-1.188707</td>\n",
       "      <td>-1.313253</td>\n",
       "      <td>-140.412995</td>\n",
       "    </tr>\n",
       "    <tr>\n",
       "      <th>3</th>\n",
       "      <td>-0.093440</td>\n",
       "      <td>0.189027</td>\n",
       "      <td>-106.489329</td>\n",
       "    </tr>\n",
       "    <tr>\n",
       "      <th>4</th>\n",
       "      <td>1.767678</td>\n",
       "      <td>-1.112345</td>\n",
       "      <td>213.432738</td>\n",
       "    </tr>\n",
       "  </tbody>\n",
       "</table>\n",
       "</div>"
      ],
      "text/plain": [
       "   feature1  feature2      target\n",
       "0  0.518811 -1.530777   54.120519\n",
       "1 -0.088871 -0.116025  -41.393501\n",
       "2 -1.188707 -1.313253 -140.412995\n",
       "3 -0.093440  0.189027 -106.489329\n",
       "4  1.767678 -1.112345  213.432738"
      ]
     },
     "execution_count": 15,
     "metadata": {},
     "output_type": "execute_result"
    }
   ],
   "source": [
    "df.head()"
   ]
  },
  {
   "cell_type": "code",
   "execution_count": 16,
   "id": "fe67e910",
   "metadata": {},
   "outputs": [],
   "source": [
    "from sklearn.model_selection import train_test_split\n",
    "X_train, X_test, y_train, y_test = train_test_split(X, y, test_size=0.2, random_state=42)"
   ]
  },
  {
   "cell_type": "code",
   "execution_count": 17,
   "id": "469691fe",
   "metadata": {},
   "outputs": [
    {
     "ename": "ValueError",
     "evalue": "Mime type rendering requires nbformat>=4.2.0 but it is not installed",
     "output_type": "error",
     "traceback": [
      "\u001b[0;31m---------------------------------------------------------------------------\u001b[0m",
      "\u001b[0;31mValueError\u001b[0m                                Traceback (most recent call last)",
      "File \u001b[0;32m/media/amrit/sda2/machine_learning/CampusX/simple_project/.venv/lib/python3.10/site-packages/IPython/core/formatters.py:984\u001b[0m, in \u001b[0;36mIPythonDisplayFormatter.__call__\u001b[0;34m(self, obj)\u001b[0m\n\u001b[1;32m    982\u001b[0m method \u001b[38;5;241m=\u001b[39m get_real_method(obj, \u001b[38;5;28mself\u001b[39m\u001b[38;5;241m.\u001b[39mprint_method)\n\u001b[1;32m    983\u001b[0m \u001b[38;5;28;01mif\u001b[39;00m method \u001b[38;5;129;01mis\u001b[39;00m \u001b[38;5;129;01mnot\u001b[39;00m \u001b[38;5;28;01mNone\u001b[39;00m:\n\u001b[0;32m--> 984\u001b[0m     \u001b[43mmethod\u001b[49m\u001b[43m(\u001b[49m\u001b[43m)\u001b[49m\n\u001b[1;32m    985\u001b[0m     \u001b[38;5;28;01mreturn\u001b[39;00m \u001b[38;5;28;01mTrue\u001b[39;00m\n",
      "File \u001b[0;32m/media/amrit/sda2/machine_learning/CampusX/simple_project/.venv/lib/python3.10/site-packages/plotly/basedatatypes.py:846\u001b[0m, in \u001b[0;36mBaseFigure._ipython_display_\u001b[0;34m(self)\u001b[0m\n\u001b[1;32m    843\u001b[0m \u001b[38;5;28;01mimport\u001b[39;00m\u001b[38;5;250m \u001b[39m\u001b[38;5;21;01mplotly\u001b[39;00m\u001b[38;5;21;01m.\u001b[39;00m\u001b[38;5;21;01mio\u001b[39;00m\u001b[38;5;250m \u001b[39m\u001b[38;5;28;01mas\u001b[39;00m\u001b[38;5;250m \u001b[39m\u001b[38;5;21;01mpio\u001b[39;00m\n\u001b[1;32m    845\u001b[0m \u001b[38;5;28;01mif\u001b[39;00m pio\u001b[38;5;241m.\u001b[39mrenderers\u001b[38;5;241m.\u001b[39mrender_on_display \u001b[38;5;129;01mand\u001b[39;00m pio\u001b[38;5;241m.\u001b[39mrenderers\u001b[38;5;241m.\u001b[39mdefault:\n\u001b[0;32m--> 846\u001b[0m     \u001b[43mpio\u001b[49m\u001b[38;5;241;43m.\u001b[39;49m\u001b[43mshow\u001b[49m\u001b[43m(\u001b[49m\u001b[38;5;28;43mself\u001b[39;49m\u001b[43m)\u001b[49m\n\u001b[1;32m    847\u001b[0m \u001b[38;5;28;01melse\u001b[39;00m:\n\u001b[1;32m    848\u001b[0m     \u001b[38;5;28mprint\u001b[39m(\u001b[38;5;28mrepr\u001b[39m(\u001b[38;5;28mself\u001b[39m))\n",
      "File \u001b[0;32m/media/amrit/sda2/machine_learning/CampusX/simple_project/.venv/lib/python3.10/site-packages/plotly/io/_renderers.py:425\u001b[0m, in \u001b[0;36mshow\u001b[0;34m(fig, renderer, validate, **kwargs)\u001b[0m\n\u001b[1;32m    420\u001b[0m     \u001b[38;5;28;01mraise\u001b[39;00m \u001b[38;5;167;01mValueError\u001b[39;00m(\n\u001b[1;32m    421\u001b[0m         \u001b[38;5;124m\"\u001b[39m\u001b[38;5;124mMime type rendering requires ipython but it is not installed\u001b[39m\u001b[38;5;124m\"\u001b[39m\n\u001b[1;32m    422\u001b[0m     )\n\u001b[1;32m    424\u001b[0m \u001b[38;5;28;01mif\u001b[39;00m \u001b[38;5;129;01mnot\u001b[39;00m nbformat \u001b[38;5;129;01mor\u001b[39;00m Version(nbformat\u001b[38;5;241m.\u001b[39m__version__) \u001b[38;5;241m<\u001b[39m Version(\u001b[38;5;124m\"\u001b[39m\u001b[38;5;124m4.2.0\u001b[39m\u001b[38;5;124m\"\u001b[39m):\n\u001b[0;32m--> 425\u001b[0m     \u001b[38;5;28;01mraise\u001b[39;00m \u001b[38;5;167;01mValueError\u001b[39;00m(\n\u001b[1;32m    426\u001b[0m         \u001b[38;5;124m\"\u001b[39m\u001b[38;5;124mMime type rendering requires nbformat>=4.2.0 but it is not installed\u001b[39m\u001b[38;5;124m\"\u001b[39m\n\u001b[1;32m    427\u001b[0m     )\n\u001b[1;32m    429\u001b[0m display_jupyter_version_warnings()\n\u001b[1;32m    431\u001b[0m ipython_display\u001b[38;5;241m.\u001b[39mdisplay(bundle, raw\u001b[38;5;241m=\u001b[39m\u001b[38;5;28;01mTrue\u001b[39;00m)\n",
      "\u001b[0;31mValueError\u001b[0m: Mime type rendering requires nbformat>=4.2.0 but it is not installed"
     ]
    },
    {
     "data": {
      "application/vnd.plotly.v1+json": {
       "config": {
        "plotlyServerURL": "https://plot.ly"
       },
       "data": [
        {
         "hovertemplate": "feature1=%{x}<br>feature2=%{y}<br>target=%{z}<extra></extra>",
         "legendgroup": "",
         "marker": {
          "color": "#636efa",
          "symbol": "circle"
         },
         "mode": "markers",
         "name": "",
         "scene": "scene",
         "showlegend": false,
         "type": "scatter3d",
         "x": {
          "bdata": "TCnOahqa4D/0Dq85RsC2vw1s4CXxBPO//uB62rXrt7+3HCA5aUj8Py/dQWL2U/S/dhtViFnI/r8r/C1hHM/CP82krmXxzOs/2Lpzjx8jsT8nJIRDE9fzP9EE2ut15Nq/q7svOLxn0b+GkJ4+xkzfvwE0C2h2z/Q/zcrDjTCS8D/FxEZ+xAj3P18X9Xb/oea/xGptvgrH2b8LY45H4QXQP8IcUuOSdb2/Z9TQZHR/4b80ZxCvgj7Iv6elw1bt+uo/IkywdrhX6j/6D9enlBj0P8L7Ja/VFNG/UAt/FxBK5b/GqfxO/DD6vzDtQmoREOA/qVFRzlGT1L9svRUgW1QCwN/vC7XTWOa/lJk9Vw20vr8E00OyVELzP4VJ6oZz6MK/eAlg8Hjz7j//ISD1Pyy0P7u1KsX4VO0/oiT2h3G56b/9HAPGVTbev43KPEcWNbI/+t7AN+4paz/dNZsS2kP2P8JJ4y1V4u+/s/Wq5Tj12L9OKq6EX6rVvzBbWaDkKYG/qDVuCv4c4D8yBWe2PAvyPw4zPnDOfsw/6E5DYZj00b/7jLPjR1qhPwPunwifXsk/E3zv12g9wz80guR/3QCuv441w7LprPq/YoG1Soh7/L9ouDv4lM7fP8dUqGR2Csm/Zk6aY2SW/7+3j+NCuK3CP3eABu1egtk/OphvaBbSyL+VP6mPL5Wwv8wlxD67lua/kKla7pI83z+JkMJxq0vqvzgI90NREOW/Dk9Dly1S+7+T67DiqqSuv811Y7dcbee/r2H83tn8+z9ne6pbB6vtv+87EZKUQey/qpjDDIs98r/Nc4Jfp97xP6/jT7Vc0eQ/fUBxgflz6L+/SL77MoTov/aoQlg4VfM/X2s1f10u0T/w0TP441v3PzO88DmsbPQ/4UZP3cyL+b9YeVi606rgP48p8Dum+Oe/vZsNoYHK7T8XuUZAil7gP17AmDYDkMg/bs53lIal2L8Df5GqZVvTv1kakcwCMNw/CBS+Cdnd4z+uWriAr920P4Cqu//WcNC/IvZqufLW8T8i2pGpOC7QP0Lbrda/2/m/1N783TU6+r8=",
          "dtype": "f8"
         },
         "y": {
          "bdata": "qEn0sQ9++L8fZvFRz7O9v9svCeYVA/W/4Ou1DAcyyD+fOO2mKszxv4DjGcu4A/m/RSVfTM45j78/Ln0knAcAwB5mHCzjGOy/sB7y/fIk+7+9p8uCXGYCQLT2tErdRN6/XW+1OxQawr+0NDSHEaLDP8VTtUOaC7i/uDJlD/5H0T+oDQoQxQjwv/WTC+CQcOC/XbxwjllF9D/gjyqhgTrnP0cfyzjrk+K/jq4+KR40rb+fIBnA0kj3P0Udx33ru/M/FMbzgvHo378CrCYaXtXov/LNVuDuSui/6QtTxsZdsj8+33TUwfuWvx8ASqw+/vy/ijUwxlGh3j/ju/Gp/THGvzrNthx+8+C/zX24yhbkyb/nXMA61Uzmvw9lSBI5dvo/Wx9XloKH8D+eoOYBFCjTP8ZvofsYbem/1rDkNOILAUDoJ1mggM/aP8wHOO5Cm9U/3zyMPxFV8b85+iQ7XhLXP3YXwiKbdMi/NpRo/1me/b9jCjGTI77qP19y1gwRsew/SNGLBQrj7z+Iwb0blmHhP+iz15051QJArvdgbn+L7j/jPK0Dxgj6P7G4IrXnfeu/v8wmIuINA0Bi91BKavbkv7uJMRomqui/9SoxZdfr3L93PXZiy9bgP2ta7F5wfOE/fj5dDgXox7/SOFKYpw/Zv6dYytR7z/2/5czqZW4m8T+x/dN4tc7qP6ZZyW1yh9i/h0839LxB3L8BDBVgn5X0v4AOlt+f6rw/GqKuh85JyD+15adzPrqmv2ovDAM4Vu0/d5wHq1tT5b+B0/zE+E3vP8r2tkzcHtU/Vrv9EF1r7T8N39AZ7Gz5vwRHrSXfT9G/ZNWHPAr99r+xaED/L8rjvwaYmuH+QaE/Ley5fqYH179PKwRRH4jSv1JYGcbf08e/ogTP6Jf85T91yFewaTDnv6nyXEnIIdg/UKsmlIoF77+eHGAfxN/BvwI8/Km8G8I/hTnRkTCJ0L+zVQ3rMEW3v/Xc++CW7+e/MUQC0I2e/r/D/FmVLJHwvyoLJp5+Md4/RbLrCevJ77+pxY6c2WvSv0aPKUBI6fS//780rnE0AMA=",
          "dtype": "f8"
         },
         "z": {
          "bdata": "LYt9K20PS0AE2t8+XrJEwJrZJUI3jWHAOS1mKlGfWsCN95z92K1qQNVyiwNAoF7AQIv8tTwzO8ALy8ZH54ROwFYcz2yskSxA2Nh50LbNTkC84ZZ9mpZmQO1afYXEGFjAODkKMyrHLUBac4PTHTs7wFaVk9N9smNAG5YNdQ+TWED7ebfuYO1AQMjVtTypxSbA51EPHJ+MVkC+JvL/wktKQPSjK8Ss7VDAHN2q1MdYI8DBMN2k1HpAQHC3TbAV6V1A2bJyfZ5sSEBs960FEh1VQNvghOSVqElA9XVRhEf1MMBKKTlOjwhNwElpZtLkOFHAdDaAvT0qXsCgk+cikd9lwELdTGsV7lLAfxh4iHQkJEDm9OPHYaVRQO4OYv40mlRA+tKUXdy7VEBOfG9v3/M+wDAKnAFIawfAFK45PHsfUcB4MrPpodMIwKhu/D3b31tAMHKTMzm5OsDHz/6QgPldQABoPTb5AFrAtIOsUWjnPUDPLXH5MDZAQGD3Zzq1PjxA9JYvZ8ACSkDLiRQtA5dbQJ3dmSS9EE5A4EqfimGZJUCEgD9WA40RQJanVSZiAUfAUEyIfzD9AcBwOd/UBzshQN4NCWZmf1rAZtK8fAoxY8Aa8B8Ovp8sQD2S/v0nx0DACIRyon1XX8BZhOW3X+o1QMMJwVmNbxnAU3LGstyiMEAxYH2uSaVCwDjYXR/qOR3Aghge+zZFN0DAef7TgkYQwLNKnFX+GDbA6mpfJ1FTYsBThRrWpno4QHRqWUogMiNAcMRFuQqVN0BXLGlNkLVSwPiEefPr11HAUPBzGMZ4TcBtQKTRX/RgQIJCfn2co1lAj//hTRN8SMBEg2uMYN1SwMGw6r58dmFA3A+i0SLfOkD8mWJjeGhTQH5rOlA7/F5Az+3vT1+xWcBJJ88BvRNQQD7GmQlJEFLAEFLiek2mUUD4V+4/UTQowN5BBjtRRGZAiGmMfJz3TsBy6UHjM6FUwBjyeEToZBFAwE1VkGwXVUCJrpD/KqosQC6MpCV5xDZAxenUHX7+PUCERKKkyl5QQBqKySNJN2bAf5MQVBNLXcA=",
          "dtype": "f8"
         }
        }
       ],
       "layout": {
        "legend": {
         "tracegroupgap": 0
        },
        "margin": {
         "t": 60
        },
        "scene": {
         "domain": {
          "x": [
           0,
           1
          ],
          "y": [
           0,
           1
          ]
         },
         "xaxis": {
          "title": {
           "text": "feature1"
          }
         },
         "yaxis": {
          "title": {
           "text": "feature2"
          }
         },
         "zaxis": {
          "title": {
           "text": "target"
          }
         }
        },
        "template": {
         "data": {
          "bar": [
           {
            "error_x": {
             "color": "#2a3f5f"
            },
            "error_y": {
             "color": "#2a3f5f"
            },
            "marker": {
             "line": {
              "color": "#E5ECF6",
              "width": 0.5
             },
             "pattern": {
              "fillmode": "overlay",
              "size": 10,
              "solidity": 0.2
             }
            },
            "type": "bar"
           }
          ],
          "barpolar": [
           {
            "marker": {
             "line": {
              "color": "#E5ECF6",
              "width": 0.5
             },
             "pattern": {
              "fillmode": "overlay",
              "size": 10,
              "solidity": 0.2
             }
            },
            "type": "barpolar"
           }
          ],
          "carpet": [
           {
            "aaxis": {
             "endlinecolor": "#2a3f5f",
             "gridcolor": "white",
             "linecolor": "white",
             "minorgridcolor": "white",
             "startlinecolor": "#2a3f5f"
            },
            "baxis": {
             "endlinecolor": "#2a3f5f",
             "gridcolor": "white",
             "linecolor": "white",
             "minorgridcolor": "white",
             "startlinecolor": "#2a3f5f"
            },
            "type": "carpet"
           }
          ],
          "choropleth": [
           {
            "colorbar": {
             "outlinewidth": 0,
             "ticks": ""
            },
            "type": "choropleth"
           }
          ],
          "contour": [
           {
            "colorbar": {
             "outlinewidth": 0,
             "ticks": ""
            },
            "colorscale": [
             [
              0,
              "#0d0887"
             ],
             [
              0.1111111111111111,
              "#46039f"
             ],
             [
              0.2222222222222222,
              "#7201a8"
             ],
             [
              0.3333333333333333,
              "#9c179e"
             ],
             [
              0.4444444444444444,
              "#bd3786"
             ],
             [
              0.5555555555555556,
              "#d8576b"
             ],
             [
              0.6666666666666666,
              "#ed7953"
             ],
             [
              0.7777777777777778,
              "#fb9f3a"
             ],
             [
              0.8888888888888888,
              "#fdca26"
             ],
             [
              1,
              "#f0f921"
             ]
            ],
            "type": "contour"
           }
          ],
          "contourcarpet": [
           {
            "colorbar": {
             "outlinewidth": 0,
             "ticks": ""
            },
            "type": "contourcarpet"
           }
          ],
          "heatmap": [
           {
            "colorbar": {
             "outlinewidth": 0,
             "ticks": ""
            },
            "colorscale": [
             [
              0,
              "#0d0887"
             ],
             [
              0.1111111111111111,
              "#46039f"
             ],
             [
              0.2222222222222222,
              "#7201a8"
             ],
             [
              0.3333333333333333,
              "#9c179e"
             ],
             [
              0.4444444444444444,
              "#bd3786"
             ],
             [
              0.5555555555555556,
              "#d8576b"
             ],
             [
              0.6666666666666666,
              "#ed7953"
             ],
             [
              0.7777777777777778,
              "#fb9f3a"
             ],
             [
              0.8888888888888888,
              "#fdca26"
             ],
             [
              1,
              "#f0f921"
             ]
            ],
            "type": "heatmap"
           }
          ],
          "histogram": [
           {
            "marker": {
             "pattern": {
              "fillmode": "overlay",
              "size": 10,
              "solidity": 0.2
             }
            },
            "type": "histogram"
           }
          ],
          "histogram2d": [
           {
            "colorbar": {
             "outlinewidth": 0,
             "ticks": ""
            },
            "colorscale": [
             [
              0,
              "#0d0887"
             ],
             [
              0.1111111111111111,
              "#46039f"
             ],
             [
              0.2222222222222222,
              "#7201a8"
             ],
             [
              0.3333333333333333,
              "#9c179e"
             ],
             [
              0.4444444444444444,
              "#bd3786"
             ],
             [
              0.5555555555555556,
              "#d8576b"
             ],
             [
              0.6666666666666666,
              "#ed7953"
             ],
             [
              0.7777777777777778,
              "#fb9f3a"
             ],
             [
              0.8888888888888888,
              "#fdca26"
             ],
             [
              1,
              "#f0f921"
             ]
            ],
            "type": "histogram2d"
           }
          ],
          "histogram2dcontour": [
           {
            "colorbar": {
             "outlinewidth": 0,
             "ticks": ""
            },
            "colorscale": [
             [
              0,
              "#0d0887"
             ],
             [
              0.1111111111111111,
              "#46039f"
             ],
             [
              0.2222222222222222,
              "#7201a8"
             ],
             [
              0.3333333333333333,
              "#9c179e"
             ],
             [
              0.4444444444444444,
              "#bd3786"
             ],
             [
              0.5555555555555556,
              "#d8576b"
             ],
             [
              0.6666666666666666,
              "#ed7953"
             ],
             [
              0.7777777777777778,
              "#fb9f3a"
             ],
             [
              0.8888888888888888,
              "#fdca26"
             ],
             [
              1,
              "#f0f921"
             ]
            ],
            "type": "histogram2dcontour"
           }
          ],
          "mesh3d": [
           {
            "colorbar": {
             "outlinewidth": 0,
             "ticks": ""
            },
            "type": "mesh3d"
           }
          ],
          "parcoords": [
           {
            "line": {
             "colorbar": {
              "outlinewidth": 0,
              "ticks": ""
             }
            },
            "type": "parcoords"
           }
          ],
          "pie": [
           {
            "automargin": true,
            "type": "pie"
           }
          ],
          "scatter": [
           {
            "fillpattern": {
             "fillmode": "overlay",
             "size": 10,
             "solidity": 0.2
            },
            "type": "scatter"
           }
          ],
          "scatter3d": [
           {
            "line": {
             "colorbar": {
              "outlinewidth": 0,
              "ticks": ""
             }
            },
            "marker": {
             "colorbar": {
              "outlinewidth": 0,
              "ticks": ""
             }
            },
            "type": "scatter3d"
           }
          ],
          "scattercarpet": [
           {
            "marker": {
             "colorbar": {
              "outlinewidth": 0,
              "ticks": ""
             }
            },
            "type": "scattercarpet"
           }
          ],
          "scattergeo": [
           {
            "marker": {
             "colorbar": {
              "outlinewidth": 0,
              "ticks": ""
             }
            },
            "type": "scattergeo"
           }
          ],
          "scattergl": [
           {
            "marker": {
             "colorbar": {
              "outlinewidth": 0,
              "ticks": ""
             }
            },
            "type": "scattergl"
           }
          ],
          "scattermap": [
           {
            "marker": {
             "colorbar": {
              "outlinewidth": 0,
              "ticks": ""
             }
            },
            "type": "scattermap"
           }
          ],
          "scattermapbox": [
           {
            "marker": {
             "colorbar": {
              "outlinewidth": 0,
              "ticks": ""
             }
            },
            "type": "scattermapbox"
           }
          ],
          "scatterpolar": [
           {
            "marker": {
             "colorbar": {
              "outlinewidth": 0,
              "ticks": ""
             }
            },
            "type": "scatterpolar"
           }
          ],
          "scatterpolargl": [
           {
            "marker": {
             "colorbar": {
              "outlinewidth": 0,
              "ticks": ""
             }
            },
            "type": "scatterpolargl"
           }
          ],
          "scatterternary": [
           {
            "marker": {
             "colorbar": {
              "outlinewidth": 0,
              "ticks": ""
             }
            },
            "type": "scatterternary"
           }
          ],
          "surface": [
           {
            "colorbar": {
             "outlinewidth": 0,
             "ticks": ""
            },
            "colorscale": [
             [
              0,
              "#0d0887"
             ],
             [
              0.1111111111111111,
              "#46039f"
             ],
             [
              0.2222222222222222,
              "#7201a8"
             ],
             [
              0.3333333333333333,
              "#9c179e"
             ],
             [
              0.4444444444444444,
              "#bd3786"
             ],
             [
              0.5555555555555556,
              "#d8576b"
             ],
             [
              0.6666666666666666,
              "#ed7953"
             ],
             [
              0.7777777777777778,
              "#fb9f3a"
             ],
             [
              0.8888888888888888,
              "#fdca26"
             ],
             [
              1,
              "#f0f921"
             ]
            ],
            "type": "surface"
           }
          ],
          "table": [
           {
            "cells": {
             "fill": {
              "color": "#EBF0F8"
             },
             "line": {
              "color": "white"
             }
            },
            "header": {
             "fill": {
              "color": "#C8D4E3"
             },
             "line": {
              "color": "white"
             }
            },
            "type": "table"
           }
          ]
         },
         "layout": {
          "annotationdefaults": {
           "arrowcolor": "#2a3f5f",
           "arrowhead": 0,
           "arrowwidth": 1
          },
          "autotypenumbers": "strict",
          "coloraxis": {
           "colorbar": {
            "outlinewidth": 0,
            "ticks": ""
           }
          },
          "colorscale": {
           "diverging": [
            [
             0,
             "#8e0152"
            ],
            [
             0.1,
             "#c51b7d"
            ],
            [
             0.2,
             "#de77ae"
            ],
            [
             0.3,
             "#f1b6da"
            ],
            [
             0.4,
             "#fde0ef"
            ],
            [
             0.5,
             "#f7f7f7"
            ],
            [
             0.6,
             "#e6f5d0"
            ],
            [
             0.7,
             "#b8e186"
            ],
            [
             0.8,
             "#7fbc41"
            ],
            [
             0.9,
             "#4d9221"
            ],
            [
             1,
             "#276419"
            ]
           ],
           "sequential": [
            [
             0,
             "#0d0887"
            ],
            [
             0.1111111111111111,
             "#46039f"
            ],
            [
             0.2222222222222222,
             "#7201a8"
            ],
            [
             0.3333333333333333,
             "#9c179e"
            ],
            [
             0.4444444444444444,
             "#bd3786"
            ],
            [
             0.5555555555555556,
             "#d8576b"
            ],
            [
             0.6666666666666666,
             "#ed7953"
            ],
            [
             0.7777777777777778,
             "#fb9f3a"
            ],
            [
             0.8888888888888888,
             "#fdca26"
            ],
            [
             1,
             "#f0f921"
            ]
           ],
           "sequentialminus": [
            [
             0,
             "#0d0887"
            ],
            [
             0.1111111111111111,
             "#46039f"
            ],
            [
             0.2222222222222222,
             "#7201a8"
            ],
            [
             0.3333333333333333,
             "#9c179e"
            ],
            [
             0.4444444444444444,
             "#bd3786"
            ],
            [
             0.5555555555555556,
             "#d8576b"
            ],
            [
             0.6666666666666666,
             "#ed7953"
            ],
            [
             0.7777777777777778,
             "#fb9f3a"
            ],
            [
             0.8888888888888888,
             "#fdca26"
            ],
            [
             1,
             "#f0f921"
            ]
           ]
          },
          "colorway": [
           "#636efa",
           "#EF553B",
           "#00cc96",
           "#ab63fa",
           "#FFA15A",
           "#19d3f3",
           "#FF6692",
           "#B6E880",
           "#FF97FF",
           "#FECB52"
          ],
          "font": {
           "color": "#2a3f5f"
          },
          "geo": {
           "bgcolor": "white",
           "lakecolor": "white",
           "landcolor": "#E5ECF6",
           "showlakes": true,
           "showland": true,
           "subunitcolor": "white"
          },
          "hoverlabel": {
           "align": "left"
          },
          "hovermode": "closest",
          "mapbox": {
           "style": "light"
          },
          "paper_bgcolor": "white",
          "plot_bgcolor": "#E5ECF6",
          "polar": {
           "angularaxis": {
            "gridcolor": "white",
            "linecolor": "white",
            "ticks": ""
           },
           "bgcolor": "#E5ECF6",
           "radialaxis": {
            "gridcolor": "white",
            "linecolor": "white",
            "ticks": ""
           }
          },
          "scene": {
           "xaxis": {
            "backgroundcolor": "#E5ECF6",
            "gridcolor": "white",
            "gridwidth": 2,
            "linecolor": "white",
            "showbackground": true,
            "ticks": "",
            "zerolinecolor": "white"
           },
           "yaxis": {
            "backgroundcolor": "#E5ECF6",
            "gridcolor": "white",
            "gridwidth": 2,
            "linecolor": "white",
            "showbackground": true,
            "ticks": "",
            "zerolinecolor": "white"
           },
           "zaxis": {
            "backgroundcolor": "#E5ECF6",
            "gridcolor": "white",
            "gridwidth": 2,
            "linecolor": "white",
            "showbackground": true,
            "ticks": "",
            "zerolinecolor": "white"
           }
          },
          "shapedefaults": {
           "line": {
            "color": "#2a3f5f"
           }
          },
          "ternary": {
           "aaxis": {
            "gridcolor": "white",
            "linecolor": "white",
            "ticks": ""
           },
           "baxis": {
            "gridcolor": "white",
            "linecolor": "white",
            "ticks": ""
           },
           "bgcolor": "#E5ECF6",
           "caxis": {
            "gridcolor": "white",
            "linecolor": "white",
            "ticks": ""
           }
          },
          "title": {
           "x": 0.05
          },
          "xaxis": {
           "automargin": true,
           "gridcolor": "white",
           "linecolor": "white",
           "ticks": "",
           "title": {
            "standoff": 15
           },
           "zerolinecolor": "white",
           "zerolinewidth": 2
          },
          "yaxis": {
           "automargin": true,
           "gridcolor": "white",
           "linecolor": "white",
           "ticks": "",
           "title": {
            "standoff": 15
           },
           "zerolinecolor": "white",
           "zerolinewidth": 2
          }
         }
        }
       }
      },
      "text/html": [
       "<div>                        <script type=\"text/javascript\">window.PlotlyConfig = {MathJaxConfig: 'local'};</script>\n",
       "        <script charset=\"utf-8\" src=\"https://cdn.plot.ly/plotly-3.0.1.min.js\"></script>                <div id=\"99d005e2-0e4f-4d45-b81f-6eb12bd63e88\" class=\"plotly-graph-div\" style=\"height:100%; width:100%;\"></div>            <script type=\"text/javascript\">                window.PLOTLYENV=window.PLOTLYENV || {};                                if (document.getElementById(\"99d005e2-0e4f-4d45-b81f-6eb12bd63e88\")) {                    Plotly.newPlot(                        \"99d005e2-0e4f-4d45-b81f-6eb12bd63e88\",                        [{\"hovertemplate\":\"feature1=%{x}\\u003cbr\\u003efeature2=%{y}\\u003cbr\\u003etarget=%{z}\\u003cextra\\u003e\\u003c\\u002fextra\\u003e\",\"legendgroup\":\"\",\"marker\":{\"color\":\"#636efa\",\"symbol\":\"circle\"},\"mode\":\"markers\",\"name\":\"\",\"scene\":\"scene\",\"showlegend\":false,\"x\":{\"dtype\":\"f8\",\"bdata\":\"TCnOahqa4D\\u002f0Dq85RsC2vw1s4CXxBPO\\u002f\\u002fuB62rXrt7+3HCA5aUj8Py\\u002fdQWL2U\\u002fS\\u002fdhtViFnI\\u002fr8r\\u002fC1hHM\\u002fCP82krmXxzOs\\u002f2Lpzjx8jsT8nJIRDE9fzP9EE2ut15Nq\\u002fq7svOLxn0b+GkJ4+xkzfvwE0C2h2z\\u002fQ\\u002fzcrDjTCS8D\\u002fFxEZ+xAj3P18X9Xb\\u002foea\\u002fxGptvgrH2b8LY45H4QXQP8IcUuOSdb2\\u002fZ9TQZHR\\u002f4b80ZxCvgj7Iv6elw1bt+uo\\u002fIkywdrhX6j\\u002f6D9enlBj0P8L7Ja\\u002fVFNG\\u002fUAt\\u002fFxBK5b\\u002fGqfxO\\u002fDD6vzDtQmoREOA\\u002fqVFRzlGT1L9svRUgW1QCwN\\u002fvC7XTWOa\\u002flJk9Vw20vr8E00OyVELzP4VJ6oZz6MK\\u002feAlg8Hjz7j\\u002f\\u002fISD1Pyy0P7u1KsX4VO0\\u002foiT2h3G56b\\u002f9HAPGVTbev43KPEcWNbI\\u002f+t7AN+4paz\\u002fdNZsS2kP2P8JJ4y1V4u+\\u002fs\\u002fWq5Tj12L9OKq6EX6rVvzBbWaDkKYG\\u002fqDVuCv4c4D8yBWe2PAvyPw4zPnDOfsw\\u002f6E5DYZj00b\\u002f7jLPjR1qhPwPunwifXsk\\u002fE3zv12g9wz80guR\\u002f3QCuv441w7LprPq\\u002fYoG1Soh7\\u002fL9ouDv4lM7fP8dUqGR2Csm\\u002fZk6aY2SW\\u002f7+3j+NCuK3CP3eABu1egtk\\u002fOphvaBbSyL+VP6mPL5Wwv8wlxD67lua\\u002fkKla7pI83z+JkMJxq0vqvzgI90NREOW\\u002fDk9Dly1S+7+T67DiqqSuv811Y7dcbee\\u002fr2H83tn8+z9ne6pbB6vtv+87EZKUQey\\u002fqpjDDIs98r\\u002fNc4Jfp97xP6\\u002fjT7Vc0eQ\\u002ffUBxgflz6L+\\u002fSL77MoTov\\u002faoQlg4VfM\\u002fX2s1f10u0T\\u002fw0TP441v3PzO88DmsbPQ\\u002f4UZP3cyL+b9YeVi606rgP48p8Dum+Oe\\u002fvZsNoYHK7T8XuUZAil7gP17AmDYDkMg\\u002fbs53lIal2L8Df5GqZVvTv1kakcwCMNw\\u002fCBS+Cdnd4z+uWriAr920P4Cqu\\u002f\\u002fWcNC\\u002fIvZqufLW8T8i2pGpOC7QP0Lbrda\\u002f2\\u002fm\\u002f1N783TU6+r8=\"},\"y\":{\"dtype\":\"f8\",\"bdata\":\"qEn0sQ9++L8fZvFRz7O9v9svCeYVA\\u002fW\\u002f4Ou1DAcyyD+fOO2mKszxv4DjGcu4A\\u002fm\\u002fRSVfTM45j78\\u002fLn0knAcAwB5mHCzjGOy\\u002fsB7y\\u002ffIk+7+9p8uCXGYCQLT2tErdRN6\\u002fXW+1OxQawr+0NDSHEaLDP8VTtUOaC7i\\u002fuDJlD\\u002f5H0T+oDQoQxQjwv\\u002fWTC+CQcOC\\u002fXbxwjllF9D\\u002fgjyqhgTrnP0cfyzjrk+K\\u002fjq4+KR40rb+fIBnA0kj3P0Udx33ru\\u002fM\\u002fFMbzgvHo378CrCYaXtXov\\u002fLNVuDuSui\\u002f6QtTxsZdsj8+33TUwfuWvx8ASqw+\\u002fvy\\u002fijUwxlGh3j\\u002fju\\u002fGp\\u002fTHGvzrNthx+8+C\\u002fzX24yhbkyb\\u002fnXMA61Uzmvw9lSBI5dvo\\u002fWx9XloKH8D+eoOYBFCjTP8ZvofsYbem\\u002f1rDkNOILAUDoJ1mggM\\u002faP8wHOO5Cm9U\\u002f3zyMPxFV8b85+iQ7XhLXP3YXwiKbdMi\\u002fNpRo\\u002f1me\\u002fb9jCjGTI77qP19y1gwRsew\\u002fSNGLBQrj7z+Iwb0blmHhP+iz15051QJArvdgbn+L7j\\u002fjPK0Dxgj6P7G4IrXnfeu\\u002fv8wmIuINA0Bi91BKavbkv7uJMRomqui\\u002f9SoxZdfr3L93PXZiy9bgP2ta7F5wfOE\\u002ffj5dDgXox7\\u002fSOFKYpw\\u002fZv6dYytR7z\\u002f2\\u002f5czqZW4m8T+x\\u002fdN4tc7qP6ZZyW1yh9i\\u002fh0839LxB3L8BDBVgn5X0v4AOlt+f6rw\\u002fGqKuh85JyD+15adzPrqmv2ovDAM4Vu0\\u002fd5wHq1tT5b+B0\\u002fzE+E3vP8r2tkzcHtU\\u002fVrv9EF1r7T8N39AZ7Gz5vwRHrSXfT9G\\u002fZNWHPAr99r+xaED\\u002fL8rjvwaYmuH+QaE\\u002fLey5fqYH179PKwRRH4jSv1JYGcbf08e\\u002fogTP6Jf85T91yFewaTDnv6nyXEnIIdg\\u002fUKsmlIoF77+eHGAfxN\\u002fBvwI8\\u002fKm8G8I\\u002fhTnRkTCJ0L+zVQ3rMEW3v\\u002fXc++CW7+e\\u002fMUQC0I2e\\u002fr\\u002fD\\u002fFmVLJHwvyoLJp5+Md4\\u002fRbLrCevJ77+pxY6c2WvSv0aPKUBI6fS\\u002f\\u002f780rnE0AMA=\"},\"z\":{\"dtype\":\"f8\",\"bdata\":\"LYt9K20PS0AE2t8+XrJEwJrZJUI3jWHAOS1mKlGfWsCN95z92K1qQNVyiwNAoF7AQIv8tTwzO8ALy8ZH54ROwFYcz2yskSxA2Nh50LbNTkC84ZZ9mpZmQO1afYXEGFjAODkKMyrHLUBac4PTHTs7wFaVk9N9smNAG5YNdQ+TWED7ebfuYO1AQMjVtTypxSbA51EPHJ+MVkC+JvL\\u002fwktKQPSjK8Ss7VDAHN2q1MdYI8DBMN2k1HpAQHC3TbAV6V1A2bJyfZ5sSEBs960FEh1VQNvghOSVqElA9XVRhEf1MMBKKTlOjwhNwElpZtLkOFHAdDaAvT0qXsCgk+cikd9lwELdTGsV7lLAfxh4iHQkJEDm9OPHYaVRQO4OYv40mlRA+tKUXdy7VEBOfG9v3\\u002fM+wDAKnAFIawfAFK45PHsfUcB4MrPpodMIwKhu\\u002fD3b31tAMHKTMzm5OsDHz\\u002f6QgPldQABoPTb5AFrAtIOsUWjnPUDPLXH5MDZAQGD3Zzq1PjxA9JYvZ8ACSkDLiRQtA5dbQJ3dmSS9EE5A4EqfimGZJUCEgD9WA40RQJanVSZiAUfAUEyIfzD9AcBwOd\\u002fUBzshQN4NCWZmf1rAZtK8fAoxY8Aa8B8Ovp8sQD2S\\u002fv0nx0DACIRyon1XX8BZhOW3X+o1QMMJwVmNbxnAU3LGstyiMEAxYH2uSaVCwDjYXR\\u002fqOR3Aghge+zZFN0DAef7TgkYQwLNKnFX+GDbA6mpfJ1FTYsBThRrWpno4QHRqWUogMiNAcMRFuQqVN0BXLGlNkLVSwPiEefPr11HAUPBzGMZ4TcBtQKTRX\\u002fRgQIJCfn2co1lAj\\u002f\\u002fhTRN8SMBEg2uMYN1SwMGw6r58dmFA3A+i0SLfOkD8mWJjeGhTQH5rOlA7\\u002fF5Az+3vT1+xWcBJJ88BvRNQQD7GmQlJEFLAEFLiek2mUUD4V+4\\u002fUTQowN5BBjtRRGZAiGmMfJz3TsBy6UHjM6FUwBjyeEToZBFAwE1VkGwXVUCJrpD\\u002fKqosQC6MpCV5xDZAxenUHX7+PUCERKKkyl5QQBqKySNJN2bAf5MQVBNLXcA=\"},\"type\":\"scatter3d\"}],                        {\"template\":{\"data\":{\"histogram2dcontour\":[{\"type\":\"histogram2dcontour\",\"colorbar\":{\"outlinewidth\":0,\"ticks\":\"\"},\"colorscale\":[[0.0,\"#0d0887\"],[0.1111111111111111,\"#46039f\"],[0.2222222222222222,\"#7201a8\"],[0.3333333333333333,\"#9c179e\"],[0.4444444444444444,\"#bd3786\"],[0.5555555555555556,\"#d8576b\"],[0.6666666666666666,\"#ed7953\"],[0.7777777777777778,\"#fb9f3a\"],[0.8888888888888888,\"#fdca26\"],[1.0,\"#f0f921\"]]}],\"choropleth\":[{\"type\":\"choropleth\",\"colorbar\":{\"outlinewidth\":0,\"ticks\":\"\"}}],\"histogram2d\":[{\"type\":\"histogram2d\",\"colorbar\":{\"outlinewidth\":0,\"ticks\":\"\"},\"colorscale\":[[0.0,\"#0d0887\"],[0.1111111111111111,\"#46039f\"],[0.2222222222222222,\"#7201a8\"],[0.3333333333333333,\"#9c179e\"],[0.4444444444444444,\"#bd3786\"],[0.5555555555555556,\"#d8576b\"],[0.6666666666666666,\"#ed7953\"],[0.7777777777777778,\"#fb9f3a\"],[0.8888888888888888,\"#fdca26\"],[1.0,\"#f0f921\"]]}],\"heatmap\":[{\"type\":\"heatmap\",\"colorbar\":{\"outlinewidth\":0,\"ticks\":\"\"},\"colorscale\":[[0.0,\"#0d0887\"],[0.1111111111111111,\"#46039f\"],[0.2222222222222222,\"#7201a8\"],[0.3333333333333333,\"#9c179e\"],[0.4444444444444444,\"#bd3786\"],[0.5555555555555556,\"#d8576b\"],[0.6666666666666666,\"#ed7953\"],[0.7777777777777778,\"#fb9f3a\"],[0.8888888888888888,\"#fdca26\"],[1.0,\"#f0f921\"]]}],\"contourcarpet\":[{\"type\":\"contourcarpet\",\"colorbar\":{\"outlinewidth\":0,\"ticks\":\"\"}}],\"contour\":[{\"type\":\"contour\",\"colorbar\":{\"outlinewidth\":0,\"ticks\":\"\"},\"colorscale\":[[0.0,\"#0d0887\"],[0.1111111111111111,\"#46039f\"],[0.2222222222222222,\"#7201a8\"],[0.3333333333333333,\"#9c179e\"],[0.4444444444444444,\"#bd3786\"],[0.5555555555555556,\"#d8576b\"],[0.6666666666666666,\"#ed7953\"],[0.7777777777777778,\"#fb9f3a\"],[0.8888888888888888,\"#fdca26\"],[1.0,\"#f0f921\"]]}],\"surface\":[{\"type\":\"surface\",\"colorbar\":{\"outlinewidth\":0,\"ticks\":\"\"},\"colorscale\":[[0.0,\"#0d0887\"],[0.1111111111111111,\"#46039f\"],[0.2222222222222222,\"#7201a8\"],[0.3333333333333333,\"#9c179e\"],[0.4444444444444444,\"#bd3786\"],[0.5555555555555556,\"#d8576b\"],[0.6666666666666666,\"#ed7953\"],[0.7777777777777778,\"#fb9f3a\"],[0.8888888888888888,\"#fdca26\"],[1.0,\"#f0f921\"]]}],\"mesh3d\":[{\"type\":\"mesh3d\",\"colorbar\":{\"outlinewidth\":0,\"ticks\":\"\"}}],\"scatter\":[{\"fillpattern\":{\"fillmode\":\"overlay\",\"size\":10,\"solidity\":0.2},\"type\":\"scatter\"}],\"parcoords\":[{\"type\":\"parcoords\",\"line\":{\"colorbar\":{\"outlinewidth\":0,\"ticks\":\"\"}}}],\"scatterpolargl\":[{\"type\":\"scatterpolargl\",\"marker\":{\"colorbar\":{\"outlinewidth\":0,\"ticks\":\"\"}}}],\"bar\":[{\"error_x\":{\"color\":\"#2a3f5f\"},\"error_y\":{\"color\":\"#2a3f5f\"},\"marker\":{\"line\":{\"color\":\"#E5ECF6\",\"width\":0.5},\"pattern\":{\"fillmode\":\"overlay\",\"size\":10,\"solidity\":0.2}},\"type\":\"bar\"}],\"scattergeo\":[{\"type\":\"scattergeo\",\"marker\":{\"colorbar\":{\"outlinewidth\":0,\"ticks\":\"\"}}}],\"scatterpolar\":[{\"type\":\"scatterpolar\",\"marker\":{\"colorbar\":{\"outlinewidth\":0,\"ticks\":\"\"}}}],\"histogram\":[{\"marker\":{\"pattern\":{\"fillmode\":\"overlay\",\"size\":10,\"solidity\":0.2}},\"type\":\"histogram\"}],\"scattergl\":[{\"type\":\"scattergl\",\"marker\":{\"colorbar\":{\"outlinewidth\":0,\"ticks\":\"\"}}}],\"scatter3d\":[{\"type\":\"scatter3d\",\"line\":{\"colorbar\":{\"outlinewidth\":0,\"ticks\":\"\"}},\"marker\":{\"colorbar\":{\"outlinewidth\":0,\"ticks\":\"\"}}}],\"scattermap\":[{\"type\":\"scattermap\",\"marker\":{\"colorbar\":{\"outlinewidth\":0,\"ticks\":\"\"}}}],\"scattermapbox\":[{\"type\":\"scattermapbox\",\"marker\":{\"colorbar\":{\"outlinewidth\":0,\"ticks\":\"\"}}}],\"scatterternary\":[{\"type\":\"scatterternary\",\"marker\":{\"colorbar\":{\"outlinewidth\":0,\"ticks\":\"\"}}}],\"scattercarpet\":[{\"type\":\"scattercarpet\",\"marker\":{\"colorbar\":{\"outlinewidth\":0,\"ticks\":\"\"}}}],\"carpet\":[{\"aaxis\":{\"endlinecolor\":\"#2a3f5f\",\"gridcolor\":\"white\",\"linecolor\":\"white\",\"minorgridcolor\":\"white\",\"startlinecolor\":\"#2a3f5f\"},\"baxis\":{\"endlinecolor\":\"#2a3f5f\",\"gridcolor\":\"white\",\"linecolor\":\"white\",\"minorgridcolor\":\"white\",\"startlinecolor\":\"#2a3f5f\"},\"type\":\"carpet\"}],\"table\":[{\"cells\":{\"fill\":{\"color\":\"#EBF0F8\"},\"line\":{\"color\":\"white\"}},\"header\":{\"fill\":{\"color\":\"#C8D4E3\"},\"line\":{\"color\":\"white\"}},\"type\":\"table\"}],\"barpolar\":[{\"marker\":{\"line\":{\"color\":\"#E5ECF6\",\"width\":0.5},\"pattern\":{\"fillmode\":\"overlay\",\"size\":10,\"solidity\":0.2}},\"type\":\"barpolar\"}],\"pie\":[{\"automargin\":true,\"type\":\"pie\"}]},\"layout\":{\"autotypenumbers\":\"strict\",\"colorway\":[\"#636efa\",\"#EF553B\",\"#00cc96\",\"#ab63fa\",\"#FFA15A\",\"#19d3f3\",\"#FF6692\",\"#B6E880\",\"#FF97FF\",\"#FECB52\"],\"font\":{\"color\":\"#2a3f5f\"},\"hovermode\":\"closest\",\"hoverlabel\":{\"align\":\"left\"},\"paper_bgcolor\":\"white\",\"plot_bgcolor\":\"#E5ECF6\",\"polar\":{\"bgcolor\":\"#E5ECF6\",\"angularaxis\":{\"gridcolor\":\"white\",\"linecolor\":\"white\",\"ticks\":\"\"},\"radialaxis\":{\"gridcolor\":\"white\",\"linecolor\":\"white\",\"ticks\":\"\"}},\"ternary\":{\"bgcolor\":\"#E5ECF6\",\"aaxis\":{\"gridcolor\":\"white\",\"linecolor\":\"white\",\"ticks\":\"\"},\"baxis\":{\"gridcolor\":\"white\",\"linecolor\":\"white\",\"ticks\":\"\"},\"caxis\":{\"gridcolor\":\"white\",\"linecolor\":\"white\",\"ticks\":\"\"}},\"coloraxis\":{\"colorbar\":{\"outlinewidth\":0,\"ticks\":\"\"}},\"colorscale\":{\"sequential\":[[0.0,\"#0d0887\"],[0.1111111111111111,\"#46039f\"],[0.2222222222222222,\"#7201a8\"],[0.3333333333333333,\"#9c179e\"],[0.4444444444444444,\"#bd3786\"],[0.5555555555555556,\"#d8576b\"],[0.6666666666666666,\"#ed7953\"],[0.7777777777777778,\"#fb9f3a\"],[0.8888888888888888,\"#fdca26\"],[1.0,\"#f0f921\"]],\"sequentialminus\":[[0.0,\"#0d0887\"],[0.1111111111111111,\"#46039f\"],[0.2222222222222222,\"#7201a8\"],[0.3333333333333333,\"#9c179e\"],[0.4444444444444444,\"#bd3786\"],[0.5555555555555556,\"#d8576b\"],[0.6666666666666666,\"#ed7953\"],[0.7777777777777778,\"#fb9f3a\"],[0.8888888888888888,\"#fdca26\"],[1.0,\"#f0f921\"]],\"diverging\":[[0,\"#8e0152\"],[0.1,\"#c51b7d\"],[0.2,\"#de77ae\"],[0.3,\"#f1b6da\"],[0.4,\"#fde0ef\"],[0.5,\"#f7f7f7\"],[0.6,\"#e6f5d0\"],[0.7,\"#b8e186\"],[0.8,\"#7fbc41\"],[0.9,\"#4d9221\"],[1,\"#276419\"]]},\"xaxis\":{\"gridcolor\":\"white\",\"linecolor\":\"white\",\"ticks\":\"\",\"title\":{\"standoff\":15},\"zerolinecolor\":\"white\",\"automargin\":true,\"zerolinewidth\":2},\"yaxis\":{\"gridcolor\":\"white\",\"linecolor\":\"white\",\"ticks\":\"\",\"title\":{\"standoff\":15},\"zerolinecolor\":\"white\",\"automargin\":true,\"zerolinewidth\":2},\"scene\":{\"xaxis\":{\"backgroundcolor\":\"#E5ECF6\",\"gridcolor\":\"white\",\"linecolor\":\"white\",\"showbackground\":true,\"ticks\":\"\",\"zerolinecolor\":\"white\",\"gridwidth\":2},\"yaxis\":{\"backgroundcolor\":\"#E5ECF6\",\"gridcolor\":\"white\",\"linecolor\":\"white\",\"showbackground\":true,\"ticks\":\"\",\"zerolinecolor\":\"white\",\"gridwidth\":2},\"zaxis\":{\"backgroundcolor\":\"#E5ECF6\",\"gridcolor\":\"white\",\"linecolor\":\"white\",\"showbackground\":true,\"ticks\":\"\",\"zerolinecolor\":\"white\",\"gridwidth\":2}},\"shapedefaults\":{\"line\":{\"color\":\"#2a3f5f\"}},\"annotationdefaults\":{\"arrowcolor\":\"#2a3f5f\",\"arrowhead\":0,\"arrowwidth\":1},\"geo\":{\"bgcolor\":\"white\",\"landcolor\":\"#E5ECF6\",\"subunitcolor\":\"white\",\"showland\":true,\"showlakes\":true,\"lakecolor\":\"white\"},\"title\":{\"x\":0.05},\"mapbox\":{\"style\":\"light\"}}},\"scene\":{\"domain\":{\"x\":[0.0,1.0],\"y\":[0.0,1.0]},\"xaxis\":{\"title\":{\"text\":\"feature1\"}},\"yaxis\":{\"title\":{\"text\":\"feature2\"}},\"zaxis\":{\"title\":{\"text\":\"target\"}}},\"legend\":{\"tracegroupgap\":0},\"margin\":{\"t\":60}},                        {\"responsive\": true}                    )                };            </script>        </div>"
      ],
      "text/plain": [
       "Figure({\n",
       "    'data': [{'hovertemplate': 'feature1=%{x}<br>feature2=%{y}<br>target=%{z}<extra></extra>',\n",
       "              'legendgroup': '',\n",
       "              'marker': {'color': '#636efa', 'symbol': 'circle'},\n",
       "              'mode': 'markers',\n",
       "              'name': '',\n",
       "              'scene': 'scene',\n",
       "              'showlegend': False,\n",
       "              'type': 'scatter3d',\n",
       "              'x': {'bdata': ('TCnOahqa4D/0Dq85RsC2vw1s4CXxBP' ... 'GpOC7QP0Lbrda/2/m/1N783TU6+r8='),\n",
       "                    'dtype': 'f8'},\n",
       "              'y': {'bdata': ('qEn0sQ9++L8fZvFRz7O9v9svCeYVA/' ... '6c2WvSv0aPKUBI6fS//780rnE0AMA='),\n",
       "                    'dtype': 'f8'},\n",
       "              'z': {'bdata': ('LYt9K20PS0AE2t8+XrJEwJrZJUI3jW' ... 'Kkyl5QQBqKySNJN2bAf5MQVBNLXcA='),\n",
       "                    'dtype': 'f8'}}],\n",
       "    'layout': {'legend': {'tracegroupgap': 0},\n",
       "               'margin': {'t': 60},\n",
       "               'scene': {'domain': {'x': [0.0, 1.0], 'y': [0.0, 1.0]},\n",
       "                         'xaxis': {'title': {'text': 'feature1'}},\n",
       "                         'yaxis': {'title': {'text': 'feature2'}},\n",
       "                         'zaxis': {'title': {'text': 'target'}}},\n",
       "               'template': '...'}\n",
       "})"
      ]
     },
     "execution_count": 17,
     "metadata": {},
     "output_type": "execute_result"
    }
   ],
   "source": [
    "px.scatter_3d(data_frame=df, x='feature1', y = 'feature2', z= 'target')"
   ]
  },
  {
   "cell_type": "code",
   "execution_count": 22,
   "id": "869a3ce1",
   "metadata": {},
   "outputs": [
    {
     "data": {
      "text/html": [
       "<style>#sk-container-id-1 {\n",
       "  /* Definition of color scheme common for light and dark mode */\n",
       "  --sklearn-color-text: #000;\n",
       "  --sklearn-color-text-muted: #666;\n",
       "  --sklearn-color-line: gray;\n",
       "  /* Definition of color scheme for unfitted estimators */\n",
       "  --sklearn-color-unfitted-level-0: #fff5e6;\n",
       "  --sklearn-color-unfitted-level-1: #f6e4d2;\n",
       "  --sklearn-color-unfitted-level-2: #ffe0b3;\n",
       "  --sklearn-color-unfitted-level-3: chocolate;\n",
       "  /* Definition of color scheme for fitted estimators */\n",
       "  --sklearn-color-fitted-level-0: #f0f8ff;\n",
       "  --sklearn-color-fitted-level-1: #d4ebff;\n",
       "  --sklearn-color-fitted-level-2: #b3dbfd;\n",
       "  --sklearn-color-fitted-level-3: cornflowerblue;\n",
       "\n",
       "  /* Specific color for light theme */\n",
       "  --sklearn-color-text-on-default-background: var(--sg-text-color, var(--theme-code-foreground, var(--jp-content-font-color1, black)));\n",
       "  --sklearn-color-background: var(--sg-background-color, var(--theme-background, var(--jp-layout-color0, white)));\n",
       "  --sklearn-color-border-box: var(--sg-text-color, var(--theme-code-foreground, var(--jp-content-font-color1, black)));\n",
       "  --sklearn-color-icon: #696969;\n",
       "\n",
       "  @media (prefers-color-scheme: dark) {\n",
       "    /* Redefinition of color scheme for dark theme */\n",
       "    --sklearn-color-text-on-default-background: var(--sg-text-color, var(--theme-code-foreground, var(--jp-content-font-color1, white)));\n",
       "    --sklearn-color-background: var(--sg-background-color, var(--theme-background, var(--jp-layout-color0, #111)));\n",
       "    --sklearn-color-border-box: var(--sg-text-color, var(--theme-code-foreground, var(--jp-content-font-color1, white)));\n",
       "    --sklearn-color-icon: #878787;\n",
       "  }\n",
       "}\n",
       "\n",
       "#sk-container-id-1 {\n",
       "  color: var(--sklearn-color-text);\n",
       "}\n",
       "\n",
       "#sk-container-id-1 pre {\n",
       "  padding: 0;\n",
       "}\n",
       "\n",
       "#sk-container-id-1 input.sk-hidden--visually {\n",
       "  border: 0;\n",
       "  clip: rect(1px 1px 1px 1px);\n",
       "  clip: rect(1px, 1px, 1px, 1px);\n",
       "  height: 1px;\n",
       "  margin: -1px;\n",
       "  overflow: hidden;\n",
       "  padding: 0;\n",
       "  position: absolute;\n",
       "  width: 1px;\n",
       "}\n",
       "\n",
       "#sk-container-id-1 div.sk-dashed-wrapped {\n",
       "  border: 1px dashed var(--sklearn-color-line);\n",
       "  margin: 0 0.4em 0.5em 0.4em;\n",
       "  box-sizing: border-box;\n",
       "  padding-bottom: 0.4em;\n",
       "  background-color: var(--sklearn-color-background);\n",
       "}\n",
       "\n",
       "#sk-container-id-1 div.sk-container {\n",
       "  /* jupyter's `normalize.less` sets `[hidden] { display: none; }`\n",
       "     but bootstrap.min.css set `[hidden] { display: none !important; }`\n",
       "     so we also need the `!important` here to be able to override the\n",
       "     default hidden behavior on the sphinx rendered scikit-learn.org.\n",
       "     See: https://github.com/scikit-learn/scikit-learn/issues/21755 */\n",
       "  display: inline-block !important;\n",
       "  position: relative;\n",
       "}\n",
       "\n",
       "#sk-container-id-1 div.sk-text-repr-fallback {\n",
       "  display: none;\n",
       "}\n",
       "\n",
       "div.sk-parallel-item,\n",
       "div.sk-serial,\n",
       "div.sk-item {\n",
       "  /* draw centered vertical line to link estimators */\n",
       "  background-image: linear-gradient(var(--sklearn-color-text-on-default-background), var(--sklearn-color-text-on-default-background));\n",
       "  background-size: 2px 100%;\n",
       "  background-repeat: no-repeat;\n",
       "  background-position: center center;\n",
       "}\n",
       "\n",
       "/* Parallel-specific style estimator block */\n",
       "\n",
       "#sk-container-id-1 div.sk-parallel-item::after {\n",
       "  content: \"\";\n",
       "  width: 100%;\n",
       "  border-bottom: 2px solid var(--sklearn-color-text-on-default-background);\n",
       "  flex-grow: 1;\n",
       "}\n",
       "\n",
       "#sk-container-id-1 div.sk-parallel {\n",
       "  display: flex;\n",
       "  align-items: stretch;\n",
       "  justify-content: center;\n",
       "  background-color: var(--sklearn-color-background);\n",
       "  position: relative;\n",
       "}\n",
       "\n",
       "#sk-container-id-1 div.sk-parallel-item {\n",
       "  display: flex;\n",
       "  flex-direction: column;\n",
       "}\n",
       "\n",
       "#sk-container-id-1 div.sk-parallel-item:first-child::after {\n",
       "  align-self: flex-end;\n",
       "  width: 50%;\n",
       "}\n",
       "\n",
       "#sk-container-id-1 div.sk-parallel-item:last-child::after {\n",
       "  align-self: flex-start;\n",
       "  width: 50%;\n",
       "}\n",
       "\n",
       "#sk-container-id-1 div.sk-parallel-item:only-child::after {\n",
       "  width: 0;\n",
       "}\n",
       "\n",
       "/* Serial-specific style estimator block */\n",
       "\n",
       "#sk-container-id-1 div.sk-serial {\n",
       "  display: flex;\n",
       "  flex-direction: column;\n",
       "  align-items: center;\n",
       "  background-color: var(--sklearn-color-background);\n",
       "  padding-right: 1em;\n",
       "  padding-left: 1em;\n",
       "}\n",
       "\n",
       "\n",
       "/* Toggleable style: style used for estimator/Pipeline/ColumnTransformer box that is\n",
       "clickable and can be expanded/collapsed.\n",
       "- Pipeline and ColumnTransformer use this feature and define the default style\n",
       "- Estimators will overwrite some part of the style using the `sk-estimator` class\n",
       "*/\n",
       "\n",
       "/* Pipeline and ColumnTransformer style (default) */\n",
       "\n",
       "#sk-container-id-1 div.sk-toggleable {\n",
       "  /* Default theme specific background. It is overwritten whether we have a\n",
       "  specific estimator or a Pipeline/ColumnTransformer */\n",
       "  background-color: var(--sklearn-color-background);\n",
       "}\n",
       "\n",
       "/* Toggleable label */\n",
       "#sk-container-id-1 label.sk-toggleable__label {\n",
       "  cursor: pointer;\n",
       "  display: flex;\n",
       "  width: 100%;\n",
       "  margin-bottom: 0;\n",
       "  padding: 0.5em;\n",
       "  box-sizing: border-box;\n",
       "  text-align: center;\n",
       "  align-items: start;\n",
       "  justify-content: space-between;\n",
       "  gap: 0.5em;\n",
       "}\n",
       "\n",
       "#sk-container-id-1 label.sk-toggleable__label .caption {\n",
       "  font-size: 0.6rem;\n",
       "  font-weight: lighter;\n",
       "  color: var(--sklearn-color-text-muted);\n",
       "}\n",
       "\n",
       "#sk-container-id-1 label.sk-toggleable__label-arrow:before {\n",
       "  /* Arrow on the left of the label */\n",
       "  content: \"▸\";\n",
       "  float: left;\n",
       "  margin-right: 0.25em;\n",
       "  color: var(--sklearn-color-icon);\n",
       "}\n",
       "\n",
       "#sk-container-id-1 label.sk-toggleable__label-arrow:hover:before {\n",
       "  color: var(--sklearn-color-text);\n",
       "}\n",
       "\n",
       "/* Toggleable content - dropdown */\n",
       "\n",
       "#sk-container-id-1 div.sk-toggleable__content {\n",
       "  max-height: 0;\n",
       "  max-width: 0;\n",
       "  overflow: hidden;\n",
       "  text-align: left;\n",
       "  /* unfitted */\n",
       "  background-color: var(--sklearn-color-unfitted-level-0);\n",
       "}\n",
       "\n",
       "#sk-container-id-1 div.sk-toggleable__content.fitted {\n",
       "  /* fitted */\n",
       "  background-color: var(--sklearn-color-fitted-level-0);\n",
       "}\n",
       "\n",
       "#sk-container-id-1 div.sk-toggleable__content pre {\n",
       "  margin: 0.2em;\n",
       "  border-radius: 0.25em;\n",
       "  color: var(--sklearn-color-text);\n",
       "  /* unfitted */\n",
       "  background-color: var(--sklearn-color-unfitted-level-0);\n",
       "}\n",
       "\n",
       "#sk-container-id-1 div.sk-toggleable__content.fitted pre {\n",
       "  /* unfitted */\n",
       "  background-color: var(--sklearn-color-fitted-level-0);\n",
       "}\n",
       "\n",
       "#sk-container-id-1 input.sk-toggleable__control:checked~div.sk-toggleable__content {\n",
       "  /* Expand drop-down */\n",
       "  max-height: 200px;\n",
       "  max-width: 100%;\n",
       "  overflow: auto;\n",
       "}\n",
       "\n",
       "#sk-container-id-1 input.sk-toggleable__control:checked~label.sk-toggleable__label-arrow:before {\n",
       "  content: \"▾\";\n",
       "}\n",
       "\n",
       "/* Pipeline/ColumnTransformer-specific style */\n",
       "\n",
       "#sk-container-id-1 div.sk-label input.sk-toggleable__control:checked~label.sk-toggleable__label {\n",
       "  color: var(--sklearn-color-text);\n",
       "  background-color: var(--sklearn-color-unfitted-level-2);\n",
       "}\n",
       "\n",
       "#sk-container-id-1 div.sk-label.fitted input.sk-toggleable__control:checked~label.sk-toggleable__label {\n",
       "  background-color: var(--sklearn-color-fitted-level-2);\n",
       "}\n",
       "\n",
       "/* Estimator-specific style */\n",
       "\n",
       "/* Colorize estimator box */\n",
       "#sk-container-id-1 div.sk-estimator input.sk-toggleable__control:checked~label.sk-toggleable__label {\n",
       "  /* unfitted */\n",
       "  background-color: var(--sklearn-color-unfitted-level-2);\n",
       "}\n",
       "\n",
       "#sk-container-id-1 div.sk-estimator.fitted input.sk-toggleable__control:checked~label.sk-toggleable__label {\n",
       "  /* fitted */\n",
       "  background-color: var(--sklearn-color-fitted-level-2);\n",
       "}\n",
       "\n",
       "#sk-container-id-1 div.sk-label label.sk-toggleable__label,\n",
       "#sk-container-id-1 div.sk-label label {\n",
       "  /* The background is the default theme color */\n",
       "  color: var(--sklearn-color-text-on-default-background);\n",
       "}\n",
       "\n",
       "/* On hover, darken the color of the background */\n",
       "#sk-container-id-1 div.sk-label:hover label.sk-toggleable__label {\n",
       "  color: var(--sklearn-color-text);\n",
       "  background-color: var(--sklearn-color-unfitted-level-2);\n",
       "}\n",
       "\n",
       "/* Label box, darken color on hover, fitted */\n",
       "#sk-container-id-1 div.sk-label.fitted:hover label.sk-toggleable__label.fitted {\n",
       "  color: var(--sklearn-color-text);\n",
       "  background-color: var(--sklearn-color-fitted-level-2);\n",
       "}\n",
       "\n",
       "/* Estimator label */\n",
       "\n",
       "#sk-container-id-1 div.sk-label label {\n",
       "  font-family: monospace;\n",
       "  font-weight: bold;\n",
       "  display: inline-block;\n",
       "  line-height: 1.2em;\n",
       "}\n",
       "\n",
       "#sk-container-id-1 div.sk-label-container {\n",
       "  text-align: center;\n",
       "}\n",
       "\n",
       "/* Estimator-specific */\n",
       "#sk-container-id-1 div.sk-estimator {\n",
       "  font-family: monospace;\n",
       "  border: 1px dotted var(--sklearn-color-border-box);\n",
       "  border-radius: 0.25em;\n",
       "  box-sizing: border-box;\n",
       "  margin-bottom: 0.5em;\n",
       "  /* unfitted */\n",
       "  background-color: var(--sklearn-color-unfitted-level-0);\n",
       "}\n",
       "\n",
       "#sk-container-id-1 div.sk-estimator.fitted {\n",
       "  /* fitted */\n",
       "  background-color: var(--sklearn-color-fitted-level-0);\n",
       "}\n",
       "\n",
       "/* on hover */\n",
       "#sk-container-id-1 div.sk-estimator:hover {\n",
       "  /* unfitted */\n",
       "  background-color: var(--sklearn-color-unfitted-level-2);\n",
       "}\n",
       "\n",
       "#sk-container-id-1 div.sk-estimator.fitted:hover {\n",
       "  /* fitted */\n",
       "  background-color: var(--sklearn-color-fitted-level-2);\n",
       "}\n",
       "\n",
       "/* Specification for estimator info (e.g. \"i\" and \"?\") */\n",
       "\n",
       "/* Common style for \"i\" and \"?\" */\n",
       "\n",
       ".sk-estimator-doc-link,\n",
       "a:link.sk-estimator-doc-link,\n",
       "a:visited.sk-estimator-doc-link {\n",
       "  float: right;\n",
       "  font-size: smaller;\n",
       "  line-height: 1em;\n",
       "  font-family: monospace;\n",
       "  background-color: var(--sklearn-color-background);\n",
       "  border-radius: 1em;\n",
       "  height: 1em;\n",
       "  width: 1em;\n",
       "  text-decoration: none !important;\n",
       "  margin-left: 0.5em;\n",
       "  text-align: center;\n",
       "  /* unfitted */\n",
       "  border: var(--sklearn-color-unfitted-level-1) 1pt solid;\n",
       "  color: var(--sklearn-color-unfitted-level-1);\n",
       "}\n",
       "\n",
       ".sk-estimator-doc-link.fitted,\n",
       "a:link.sk-estimator-doc-link.fitted,\n",
       "a:visited.sk-estimator-doc-link.fitted {\n",
       "  /* fitted */\n",
       "  border: var(--sklearn-color-fitted-level-1) 1pt solid;\n",
       "  color: var(--sklearn-color-fitted-level-1);\n",
       "}\n",
       "\n",
       "/* On hover */\n",
       "div.sk-estimator:hover .sk-estimator-doc-link:hover,\n",
       ".sk-estimator-doc-link:hover,\n",
       "div.sk-label-container:hover .sk-estimator-doc-link:hover,\n",
       ".sk-estimator-doc-link:hover {\n",
       "  /* unfitted */\n",
       "  background-color: var(--sklearn-color-unfitted-level-3);\n",
       "  color: var(--sklearn-color-background);\n",
       "  text-decoration: none;\n",
       "}\n",
       "\n",
       "div.sk-estimator.fitted:hover .sk-estimator-doc-link.fitted:hover,\n",
       ".sk-estimator-doc-link.fitted:hover,\n",
       "div.sk-label-container:hover .sk-estimator-doc-link.fitted:hover,\n",
       ".sk-estimator-doc-link.fitted:hover {\n",
       "  /* fitted */\n",
       "  background-color: var(--sklearn-color-fitted-level-3);\n",
       "  color: var(--sklearn-color-background);\n",
       "  text-decoration: none;\n",
       "}\n",
       "\n",
       "/* Span, style for the box shown on hovering the info icon */\n",
       ".sk-estimator-doc-link span {\n",
       "  display: none;\n",
       "  z-index: 9999;\n",
       "  position: relative;\n",
       "  font-weight: normal;\n",
       "  right: .2ex;\n",
       "  padding: .5ex;\n",
       "  margin: .5ex;\n",
       "  width: min-content;\n",
       "  min-width: 20ex;\n",
       "  max-width: 50ex;\n",
       "  color: var(--sklearn-color-text);\n",
       "  box-shadow: 2pt 2pt 4pt #999;\n",
       "  /* unfitted */\n",
       "  background: var(--sklearn-color-unfitted-level-0);\n",
       "  border: .5pt solid var(--sklearn-color-unfitted-level-3);\n",
       "}\n",
       "\n",
       ".sk-estimator-doc-link.fitted span {\n",
       "  /* fitted */\n",
       "  background: var(--sklearn-color-fitted-level-0);\n",
       "  border: var(--sklearn-color-fitted-level-3);\n",
       "}\n",
       "\n",
       ".sk-estimator-doc-link:hover span {\n",
       "  display: block;\n",
       "}\n",
       "\n",
       "/* \"?\"-specific style due to the `<a>` HTML tag */\n",
       "\n",
       "#sk-container-id-1 a.estimator_doc_link {\n",
       "  float: right;\n",
       "  font-size: 1rem;\n",
       "  line-height: 1em;\n",
       "  font-family: monospace;\n",
       "  background-color: var(--sklearn-color-background);\n",
       "  border-radius: 1rem;\n",
       "  height: 1rem;\n",
       "  width: 1rem;\n",
       "  text-decoration: none;\n",
       "  /* unfitted */\n",
       "  color: var(--sklearn-color-unfitted-level-1);\n",
       "  border: var(--sklearn-color-unfitted-level-1) 1pt solid;\n",
       "}\n",
       "\n",
       "#sk-container-id-1 a.estimator_doc_link.fitted {\n",
       "  /* fitted */\n",
       "  border: var(--sklearn-color-fitted-level-1) 1pt solid;\n",
       "  color: var(--sklearn-color-fitted-level-1);\n",
       "}\n",
       "\n",
       "/* On hover */\n",
       "#sk-container-id-1 a.estimator_doc_link:hover {\n",
       "  /* unfitted */\n",
       "  background-color: var(--sklearn-color-unfitted-level-3);\n",
       "  color: var(--sklearn-color-background);\n",
       "  text-decoration: none;\n",
       "}\n",
       "\n",
       "#sk-container-id-1 a.estimator_doc_link.fitted:hover {\n",
       "  /* fitted */\n",
       "  background-color: var(--sklearn-color-fitted-level-3);\n",
       "}\n",
       "</style><div id=\"sk-container-id-1\" class=\"sk-top-container\"><div class=\"sk-text-repr-fallback\"><pre>LinearRegression()</pre><b>In a Jupyter environment, please rerun this cell to show the HTML representation or trust the notebook. <br />On GitHub, the HTML representation is unable to render, please try loading this page with nbviewer.org.</b></div><div class=\"sk-container\" hidden><div class=\"sk-item\"><div class=\"sk-estimator fitted sk-toggleable\"><input class=\"sk-toggleable__control sk-hidden--visually\" id=\"sk-estimator-id-1\" type=\"checkbox\" checked><label for=\"sk-estimator-id-1\" class=\"sk-toggleable__label fitted sk-toggleable__label-arrow\"><div><div>LinearRegression</div></div><div><a class=\"sk-estimator-doc-link fitted\" rel=\"noreferrer\" target=\"_blank\" href=\"https://scikit-learn.org/1.6/modules/generated/sklearn.linear_model.LinearRegression.html\">?<span>Documentation for LinearRegression</span></a><span class=\"sk-estimator-doc-link fitted\">i<span>Fitted</span></span></div></label><div class=\"sk-toggleable__content fitted\"><pre>LinearRegression()</pre></div> </div></div></div></div>"
      ],
      "text/plain": [
       "LinearRegression()"
      ]
     },
     "execution_count": 22,
     "metadata": {},
     "output_type": "execute_result"
    }
   ],
   "source": [
    "from sklearn.linear_model import LinearRegression\n",
    "lr = LinearRegression()\n",
    "\n",
    "lr.fit(X_train, y_train)\n"
   ]
  },
  {
   "cell_type": "code",
   "execution_count": 24,
   "id": "eed9151f",
   "metadata": {},
   "outputs": [],
   "source": [
    "y_pred = lr.predict(X_test)"
   ]
  },
  {
   "cell_type": "code",
   "execution_count": 25,
   "id": "8abe8dbd",
   "metadata": {},
   "outputs": [
    {
     "name": "stdout",
     "output_type": "stream",
     "text": [
      "mae:  55.05108982210031\n",
      "mse:  3882.647904202936\n",
      "rmse:  62.31089715453418\n",
      "r2:  0.6398767890097719\n"
     ]
    }
   ],
   "source": [
    "print(\"mae: \", mean_absolute_error(y_test, y_pred))\n",
    "print(\"mse: \", mean_squared_error(y_test, y_pred))\n",
    "print(\"rmse: \", root_mean_squared_error(y_test, y_pred))\n",
    "print(\"r2: \", r2_score(y_test, y_pred))"
   ]
  },
  {
   "cell_type": "code",
   "execution_count": 29,
   "id": "4b6e40d9",
   "metadata": {},
   "outputs": [
    {
     "ename": "ValueError",
     "evalue": "Mime type rendering requires nbformat>=4.2.0 but it is not installed",
     "output_type": "error",
     "traceback": [
      "\u001b[0;31m---------------------------------------------------------------------------\u001b[0m",
      "\u001b[0;31mValueError\u001b[0m                                Traceback (most recent call last)",
      "File \u001b[0;32m/media/amrit/sda2/machine_learning/CampusX/simple_project/.venv/lib/python3.10/site-packages/IPython/core/formatters.py:984\u001b[0m, in \u001b[0;36mIPythonDisplayFormatter.__call__\u001b[0;34m(self, obj)\u001b[0m\n\u001b[1;32m    982\u001b[0m method \u001b[38;5;241m=\u001b[39m get_real_method(obj, \u001b[38;5;28mself\u001b[39m\u001b[38;5;241m.\u001b[39mprint_method)\n\u001b[1;32m    983\u001b[0m \u001b[38;5;28;01mif\u001b[39;00m method \u001b[38;5;129;01mis\u001b[39;00m \u001b[38;5;129;01mnot\u001b[39;00m \u001b[38;5;28;01mNone\u001b[39;00m:\n\u001b[0;32m--> 984\u001b[0m     \u001b[43mmethod\u001b[49m\u001b[43m(\u001b[49m\u001b[43m)\u001b[49m\n\u001b[1;32m    985\u001b[0m     \u001b[38;5;28;01mreturn\u001b[39;00m \u001b[38;5;28;01mTrue\u001b[39;00m\n",
      "File \u001b[0;32m/media/amrit/sda2/machine_learning/CampusX/simple_project/.venv/lib/python3.10/site-packages/plotly/basedatatypes.py:846\u001b[0m, in \u001b[0;36mBaseFigure._ipython_display_\u001b[0;34m(self)\u001b[0m\n\u001b[1;32m    843\u001b[0m \u001b[38;5;28;01mimport\u001b[39;00m\u001b[38;5;250m \u001b[39m\u001b[38;5;21;01mplotly\u001b[39;00m\u001b[38;5;21;01m.\u001b[39;00m\u001b[38;5;21;01mio\u001b[39;00m\u001b[38;5;250m \u001b[39m\u001b[38;5;28;01mas\u001b[39;00m\u001b[38;5;250m \u001b[39m\u001b[38;5;21;01mpio\u001b[39;00m\n\u001b[1;32m    845\u001b[0m \u001b[38;5;28;01mif\u001b[39;00m pio\u001b[38;5;241m.\u001b[39mrenderers\u001b[38;5;241m.\u001b[39mrender_on_display \u001b[38;5;129;01mand\u001b[39;00m pio\u001b[38;5;241m.\u001b[39mrenderers\u001b[38;5;241m.\u001b[39mdefault:\n\u001b[0;32m--> 846\u001b[0m     \u001b[43mpio\u001b[49m\u001b[38;5;241;43m.\u001b[39;49m\u001b[43mshow\u001b[49m\u001b[43m(\u001b[49m\u001b[38;5;28;43mself\u001b[39;49m\u001b[43m)\u001b[49m\n\u001b[1;32m    847\u001b[0m \u001b[38;5;28;01melse\u001b[39;00m:\n\u001b[1;32m    848\u001b[0m     \u001b[38;5;28mprint\u001b[39m(\u001b[38;5;28mrepr\u001b[39m(\u001b[38;5;28mself\u001b[39m))\n",
      "File \u001b[0;32m/media/amrit/sda2/machine_learning/CampusX/simple_project/.venv/lib/python3.10/site-packages/plotly/io/_renderers.py:425\u001b[0m, in \u001b[0;36mshow\u001b[0;34m(fig, renderer, validate, **kwargs)\u001b[0m\n\u001b[1;32m    420\u001b[0m     \u001b[38;5;28;01mraise\u001b[39;00m \u001b[38;5;167;01mValueError\u001b[39;00m(\n\u001b[1;32m    421\u001b[0m         \u001b[38;5;124m\"\u001b[39m\u001b[38;5;124mMime type rendering requires ipython but it is not installed\u001b[39m\u001b[38;5;124m\"\u001b[39m\n\u001b[1;32m    422\u001b[0m     )\n\u001b[1;32m    424\u001b[0m \u001b[38;5;28;01mif\u001b[39;00m \u001b[38;5;129;01mnot\u001b[39;00m nbformat \u001b[38;5;129;01mor\u001b[39;00m Version(nbformat\u001b[38;5;241m.\u001b[39m__version__) \u001b[38;5;241m<\u001b[39m Version(\u001b[38;5;124m\"\u001b[39m\u001b[38;5;124m4.2.0\u001b[39m\u001b[38;5;124m\"\u001b[39m):\n\u001b[0;32m--> 425\u001b[0m     \u001b[38;5;28;01mraise\u001b[39;00m \u001b[38;5;167;01mValueError\u001b[39;00m(\n\u001b[1;32m    426\u001b[0m         \u001b[38;5;124m\"\u001b[39m\u001b[38;5;124mMime type rendering requires nbformat>=4.2.0 but it is not installed\u001b[39m\u001b[38;5;124m\"\u001b[39m\n\u001b[1;32m    427\u001b[0m     )\n\u001b[1;32m    429\u001b[0m display_jupyter_version_warnings()\n\u001b[1;32m    431\u001b[0m ipython_display\u001b[38;5;241m.\u001b[39mdisplay(bundle, raw\u001b[38;5;241m=\u001b[39m\u001b[38;5;28;01mTrue\u001b[39;00m)\n",
      "\u001b[0;31mValueError\u001b[0m: Mime type rendering requires nbformat>=4.2.0 but it is not installed"
     ]
    },
    {
     "data": {
      "application/vnd.plotly.v1+json": {
       "config": {
        "plotlyServerURL": "https://plot.ly"
       },
       "data": [
        {
         "hovertemplate": "feature1=%{x}<br>feature2=%{y}<br>target=%{z}<extra></extra>",
         "legendgroup": "",
         "marker": {
          "color": "#636efa",
          "symbol": "circle"
         },
         "mode": "markers",
         "name": "",
         "scene": "scene",
         "showlegend": false,
         "type": "scatter3d",
         "x": {
          "bdata": "TCnOahqa4D/0Dq85RsC2vw1s4CXxBPO//uB62rXrt7+3HCA5aUj8Py/dQWL2U/S/dhtViFnI/r8r/C1hHM/CP82krmXxzOs/2Lpzjx8jsT8nJIRDE9fzP9EE2ut15Nq/q7svOLxn0b+GkJ4+xkzfvwE0C2h2z/Q/zcrDjTCS8D/FxEZ+xAj3P18X9Xb/oea/xGptvgrH2b8LY45H4QXQP8IcUuOSdb2/Z9TQZHR/4b80ZxCvgj7Iv6elw1bt+uo/IkywdrhX6j/6D9enlBj0P8L7Ja/VFNG/UAt/FxBK5b/GqfxO/DD6vzDtQmoREOA/qVFRzlGT1L9svRUgW1QCwN/vC7XTWOa/lJk9Vw20vr8E00OyVELzP4VJ6oZz6MK/eAlg8Hjz7j//ISD1Pyy0P7u1KsX4VO0/oiT2h3G56b/9HAPGVTbev43KPEcWNbI/+t7AN+4paz/dNZsS2kP2P8JJ4y1V4u+/s/Wq5Tj12L9OKq6EX6rVvzBbWaDkKYG/qDVuCv4c4D8yBWe2PAvyPw4zPnDOfsw/6E5DYZj00b/7jLPjR1qhPwPunwifXsk/E3zv12g9wz80guR/3QCuv441w7LprPq/YoG1Soh7/L9ouDv4lM7fP8dUqGR2Csm/Zk6aY2SW/7+3j+NCuK3CP3eABu1egtk/OphvaBbSyL+VP6mPL5Wwv8wlxD67lua/kKla7pI83z+JkMJxq0vqvzgI90NREOW/Dk9Dly1S+7+T67DiqqSuv811Y7dcbee/r2H83tn8+z9ne6pbB6vtv+87EZKUQey/qpjDDIs98r/Nc4Jfp97xP6/jT7Vc0eQ/fUBxgflz6L+/SL77MoTov/aoQlg4VfM/X2s1f10u0T/w0TP441v3PzO88DmsbPQ/4UZP3cyL+b9YeVi606rgP48p8Dum+Oe/vZsNoYHK7T8XuUZAil7gP17AmDYDkMg/bs53lIal2L8Df5GqZVvTv1kakcwCMNw/CBS+Cdnd4z+uWriAr920P4Cqu//WcNC/IvZqufLW8T8i2pGpOC7QP0Lbrda/2/m/1N783TU6+r8=",
          "dtype": "f8"
         },
         "y": {
          "bdata": "qEn0sQ9++L8fZvFRz7O9v9svCeYVA/W/4Ou1DAcyyD+fOO2mKszxv4DjGcu4A/m/RSVfTM45j78/Ln0knAcAwB5mHCzjGOy/sB7y/fIk+7+9p8uCXGYCQLT2tErdRN6/XW+1OxQawr+0NDSHEaLDP8VTtUOaC7i/uDJlD/5H0T+oDQoQxQjwv/WTC+CQcOC/XbxwjllF9D/gjyqhgTrnP0cfyzjrk+K/jq4+KR40rb+fIBnA0kj3P0Udx33ru/M/FMbzgvHo378CrCYaXtXov/LNVuDuSui/6QtTxsZdsj8+33TUwfuWvx8ASqw+/vy/ijUwxlGh3j/ju/Gp/THGvzrNthx+8+C/zX24yhbkyb/nXMA61Uzmvw9lSBI5dvo/Wx9XloKH8D+eoOYBFCjTP8ZvofsYbem/1rDkNOILAUDoJ1mggM/aP8wHOO5Cm9U/3zyMPxFV8b85+iQ7XhLXP3YXwiKbdMi/NpRo/1me/b9jCjGTI77qP19y1gwRsew/SNGLBQrj7z+Iwb0blmHhP+iz15051QJArvdgbn+L7j/jPK0Dxgj6P7G4IrXnfeu/v8wmIuINA0Bi91BKavbkv7uJMRomqui/9SoxZdfr3L93PXZiy9bgP2ta7F5wfOE/fj5dDgXox7/SOFKYpw/Zv6dYytR7z/2/5czqZW4m8T+x/dN4tc7qP6ZZyW1yh9i/h0839LxB3L8BDBVgn5X0v4AOlt+f6rw/GqKuh85JyD+15adzPrqmv2ovDAM4Vu0/d5wHq1tT5b+B0/zE+E3vP8r2tkzcHtU/Vrv9EF1r7T8N39AZ7Gz5vwRHrSXfT9G/ZNWHPAr99r+xaED/L8rjvwaYmuH+QaE/Ley5fqYH179PKwRRH4jSv1JYGcbf08e/ogTP6Jf85T91yFewaTDnv6nyXEnIIdg/UKsmlIoF77+eHGAfxN/BvwI8/Km8G8I/hTnRkTCJ0L+zVQ3rMEW3v/Xc++CW7+e/MUQC0I2e/r/D/FmVLJHwvyoLJp5+Md4/RbLrCevJ77+pxY6c2WvSv0aPKUBI6fS//780rnE0AMA=",
          "dtype": "f8"
         },
         "z": {
          "bdata": "LYt9K20PS0AE2t8+XrJEwJrZJUI3jWHAOS1mKlGfWsCN95z92K1qQNVyiwNAoF7AQIv8tTwzO8ALy8ZH54ROwFYcz2yskSxA2Nh50LbNTkC84ZZ9mpZmQO1afYXEGFjAODkKMyrHLUBac4PTHTs7wFaVk9N9smNAG5YNdQ+TWED7ebfuYO1AQMjVtTypxSbA51EPHJ+MVkC+JvL/wktKQPSjK8Ss7VDAHN2q1MdYI8DBMN2k1HpAQHC3TbAV6V1A2bJyfZ5sSEBs960FEh1VQNvghOSVqElA9XVRhEf1MMBKKTlOjwhNwElpZtLkOFHAdDaAvT0qXsCgk+cikd9lwELdTGsV7lLAfxh4iHQkJEDm9OPHYaVRQO4OYv40mlRA+tKUXdy7VEBOfG9v3/M+wDAKnAFIawfAFK45PHsfUcB4MrPpodMIwKhu/D3b31tAMHKTMzm5OsDHz/6QgPldQABoPTb5AFrAtIOsUWjnPUDPLXH5MDZAQGD3Zzq1PjxA9JYvZ8ACSkDLiRQtA5dbQJ3dmSS9EE5A4EqfimGZJUCEgD9WA40RQJanVSZiAUfAUEyIfzD9AcBwOd/UBzshQN4NCWZmf1rAZtK8fAoxY8Aa8B8Ovp8sQD2S/v0nx0DACIRyon1XX8BZhOW3X+o1QMMJwVmNbxnAU3LGstyiMEAxYH2uSaVCwDjYXR/qOR3Aghge+zZFN0DAef7TgkYQwLNKnFX+GDbA6mpfJ1FTYsBThRrWpno4QHRqWUogMiNAcMRFuQqVN0BXLGlNkLVSwPiEefPr11HAUPBzGMZ4TcBtQKTRX/RgQIJCfn2co1lAj//hTRN8SMBEg2uMYN1SwMGw6r58dmFA3A+i0SLfOkD8mWJjeGhTQH5rOlA7/F5Az+3vT1+xWcBJJ88BvRNQQD7GmQlJEFLAEFLiek2mUUD4V+4/UTQowN5BBjtRRGZAiGmMfJz3TsBy6UHjM6FUwBjyeEToZBFAwE1VkGwXVUCJrpD/KqosQC6MpCV5xDZAxenUHX7+PUCERKKkyl5QQBqKySNJN2bAf5MQVBNLXcA=",
          "dtype": "f8"
         }
        },
        {
         "type": "surface",
         "x": {
          "bdata": "AAAAAAAAFMDHcRzHcRwPwI7jOI7jOAbAqqqqqqqq+r9wHMdxHMfhv3Acx3Ecx+E/rKqqqqqq+j+Q4ziO4zgGQMhxHMdxHA9AAAAAAAAAFEA=",
          "dtype": "f8"
         },
         "y": {
          "bdata": "AAAAAAAAFMDHcRzHcRwPwI7jOI7jOAbAqqqqqqqq+r9wHMdxHMfhv3Acx3Ecx+E/rKqqqqqq+j+Q4ziO4zgGQMhxHMdxHA9AAAAAAAAAFEA=",
          "dtype": "f8"
         },
         "z": {
          "bdata": "T7cREfP6eMAeNkpQ7KJ0wO60go/lSnDAe2d2nb3lZ8A0ys43YGtewOeKYWmKFkrAQP20OVdTMUATRIvR8LRVQGqkVOqFimNAyqbja5M6bEB5ul2JBLJ3wEg5lsj9WXPAL3CdD+4DbsDObQ6O4FNlwNvW/himR1nAakiDVyyeP8BSZXraH/FCQGw3W/Cq2FpAFp68+WIcZkB2oEt7cMxuQKK9qQEWaXbAcjziQA8RcsCDdjUAEXJrwCJ0pn4DwmLAguMu+usjVMAR9oa4hx4mwANMGhiUOE1AxSorD2X8X0DClyQJQK5oQBHNWcUmr3BAzMD1eScgdcCcPy65IMhwwNZ8zfAz4GjAdXo+byYwYMBR4L22YwBOwLik+D1J/yJAWhndKgTAU0APj/2WD5BiQG+RjBgdQGtA58kNTRX4cUD2w0HyONdzwIuF9GJk/m7AKoNl4VZOZsCSAa2/kjxbwJ/5HXnvuEPAwB88Go0OPkCzDK1JvuNYQLyIZabsIWVAG4v0J/rRbUC+xsHUA0FzQCDHjWpKjnLA3ouMU4dsbMB+if3RebxjwDkO3aDYGFbA3iX8dvbiMsCR9r3Kuk5JQAwAfWh4B15AaILNtcmzZ0BkQq6b6zFwQJTDdVzyiXRAScrZ4ltFccAykiREqtppwNGPlcKcKmHA4BoNgh71UMCeeDpEIL/6P6LuLoQXy1FAs3mmQ5mVYUAVfDXFpkVqQDo/YiPaenFAasAp5ODSdUDmmku22vhvwIWYvDTNSGfASCxbZn8xXcALT3rGyKJHwPB0g3/aOjZA++H+otHuVkBgcw5TdidkQMF1ndSD12xAETwWq8jDckBBvd1rzxt3QDqh46b9Zm3A2Z5UJfC2ZMDvOItHxQ1YwLTQtBGptjrAKaFhfeFkRUBU1c7BixJcQAxtdmJTuWZAbm8F5GBpb0DnOMoytwx0QBe6kfO9ZHhAjqd7lyDVasAtpewVEyViwJdFuygL6lLAVA3UWQKfGMDZhwG7VaxPQFZkT/Aim2BAuGbecTBLaUCNtLb5nv1wQL01frqlVXVA7bZFe6yteUA=",
          "dtype": "f8",
          "shape": "10, 10"
         }
        }
       ],
       "layout": {
        "legend": {
         "tracegroupgap": 0
        },
        "margin": {
         "t": 60
        },
        "scene": {
         "domain": {
          "x": [
           0,
           1
          ],
          "y": [
           0,
           1
          ]
         },
         "xaxis": {
          "title": {
           "text": "feature1"
          }
         },
         "yaxis": {
          "title": {
           "text": "feature2"
          }
         },
         "zaxis": {
          "title": {
           "text": "target"
          }
         }
        },
        "template": {
         "data": {
          "bar": [
           {
            "error_x": {
             "color": "#2a3f5f"
            },
            "error_y": {
             "color": "#2a3f5f"
            },
            "marker": {
             "line": {
              "color": "#E5ECF6",
              "width": 0.5
             },
             "pattern": {
              "fillmode": "overlay",
              "size": 10,
              "solidity": 0.2
             }
            },
            "type": "bar"
           }
          ],
          "barpolar": [
           {
            "marker": {
             "line": {
              "color": "#E5ECF6",
              "width": 0.5
             },
             "pattern": {
              "fillmode": "overlay",
              "size": 10,
              "solidity": 0.2
             }
            },
            "type": "barpolar"
           }
          ],
          "carpet": [
           {
            "aaxis": {
             "endlinecolor": "#2a3f5f",
             "gridcolor": "white",
             "linecolor": "white",
             "minorgridcolor": "white",
             "startlinecolor": "#2a3f5f"
            },
            "baxis": {
             "endlinecolor": "#2a3f5f",
             "gridcolor": "white",
             "linecolor": "white",
             "minorgridcolor": "white",
             "startlinecolor": "#2a3f5f"
            },
            "type": "carpet"
           }
          ],
          "choropleth": [
           {
            "colorbar": {
             "outlinewidth": 0,
             "ticks": ""
            },
            "type": "choropleth"
           }
          ],
          "contour": [
           {
            "colorbar": {
             "outlinewidth": 0,
             "ticks": ""
            },
            "colorscale": [
             [
              0,
              "#0d0887"
             ],
             [
              0.1111111111111111,
              "#46039f"
             ],
             [
              0.2222222222222222,
              "#7201a8"
             ],
             [
              0.3333333333333333,
              "#9c179e"
             ],
             [
              0.4444444444444444,
              "#bd3786"
             ],
             [
              0.5555555555555556,
              "#d8576b"
             ],
             [
              0.6666666666666666,
              "#ed7953"
             ],
             [
              0.7777777777777778,
              "#fb9f3a"
             ],
             [
              0.8888888888888888,
              "#fdca26"
             ],
             [
              1,
              "#f0f921"
             ]
            ],
            "type": "contour"
           }
          ],
          "contourcarpet": [
           {
            "colorbar": {
             "outlinewidth": 0,
             "ticks": ""
            },
            "type": "contourcarpet"
           }
          ],
          "heatmap": [
           {
            "colorbar": {
             "outlinewidth": 0,
             "ticks": ""
            },
            "colorscale": [
             [
              0,
              "#0d0887"
             ],
             [
              0.1111111111111111,
              "#46039f"
             ],
             [
              0.2222222222222222,
              "#7201a8"
             ],
             [
              0.3333333333333333,
              "#9c179e"
             ],
             [
              0.4444444444444444,
              "#bd3786"
             ],
             [
              0.5555555555555556,
              "#d8576b"
             ],
             [
              0.6666666666666666,
              "#ed7953"
             ],
             [
              0.7777777777777778,
              "#fb9f3a"
             ],
             [
              0.8888888888888888,
              "#fdca26"
             ],
             [
              1,
              "#f0f921"
             ]
            ],
            "type": "heatmap"
           }
          ],
          "histogram": [
           {
            "marker": {
             "pattern": {
              "fillmode": "overlay",
              "size": 10,
              "solidity": 0.2
             }
            },
            "type": "histogram"
           }
          ],
          "histogram2d": [
           {
            "colorbar": {
             "outlinewidth": 0,
             "ticks": ""
            },
            "colorscale": [
             [
              0,
              "#0d0887"
             ],
             [
              0.1111111111111111,
              "#46039f"
             ],
             [
              0.2222222222222222,
              "#7201a8"
             ],
             [
              0.3333333333333333,
              "#9c179e"
             ],
             [
              0.4444444444444444,
              "#bd3786"
             ],
             [
              0.5555555555555556,
              "#d8576b"
             ],
             [
              0.6666666666666666,
              "#ed7953"
             ],
             [
              0.7777777777777778,
              "#fb9f3a"
             ],
             [
              0.8888888888888888,
              "#fdca26"
             ],
             [
              1,
              "#f0f921"
             ]
            ],
            "type": "histogram2d"
           }
          ],
          "histogram2dcontour": [
           {
            "colorbar": {
             "outlinewidth": 0,
             "ticks": ""
            },
            "colorscale": [
             [
              0,
              "#0d0887"
             ],
             [
              0.1111111111111111,
              "#46039f"
             ],
             [
              0.2222222222222222,
              "#7201a8"
             ],
             [
              0.3333333333333333,
              "#9c179e"
             ],
             [
              0.4444444444444444,
              "#bd3786"
             ],
             [
              0.5555555555555556,
              "#d8576b"
             ],
             [
              0.6666666666666666,
              "#ed7953"
             ],
             [
              0.7777777777777778,
              "#fb9f3a"
             ],
             [
              0.8888888888888888,
              "#fdca26"
             ],
             [
              1,
              "#f0f921"
             ]
            ],
            "type": "histogram2dcontour"
           }
          ],
          "mesh3d": [
           {
            "colorbar": {
             "outlinewidth": 0,
             "ticks": ""
            },
            "type": "mesh3d"
           }
          ],
          "parcoords": [
           {
            "line": {
             "colorbar": {
              "outlinewidth": 0,
              "ticks": ""
             }
            },
            "type": "parcoords"
           }
          ],
          "pie": [
           {
            "automargin": true,
            "type": "pie"
           }
          ],
          "scatter": [
           {
            "fillpattern": {
             "fillmode": "overlay",
             "size": 10,
             "solidity": 0.2
            },
            "type": "scatter"
           }
          ],
          "scatter3d": [
           {
            "line": {
             "colorbar": {
              "outlinewidth": 0,
              "ticks": ""
             }
            },
            "marker": {
             "colorbar": {
              "outlinewidth": 0,
              "ticks": ""
             }
            },
            "type": "scatter3d"
           }
          ],
          "scattercarpet": [
           {
            "marker": {
             "colorbar": {
              "outlinewidth": 0,
              "ticks": ""
             }
            },
            "type": "scattercarpet"
           }
          ],
          "scattergeo": [
           {
            "marker": {
             "colorbar": {
              "outlinewidth": 0,
              "ticks": ""
             }
            },
            "type": "scattergeo"
           }
          ],
          "scattergl": [
           {
            "marker": {
             "colorbar": {
              "outlinewidth": 0,
              "ticks": ""
             }
            },
            "type": "scattergl"
           }
          ],
          "scattermap": [
           {
            "marker": {
             "colorbar": {
              "outlinewidth": 0,
              "ticks": ""
             }
            },
            "type": "scattermap"
           }
          ],
          "scattermapbox": [
           {
            "marker": {
             "colorbar": {
              "outlinewidth": 0,
              "ticks": ""
             }
            },
            "type": "scattermapbox"
           }
          ],
          "scatterpolar": [
           {
            "marker": {
             "colorbar": {
              "outlinewidth": 0,
              "ticks": ""
             }
            },
            "type": "scatterpolar"
           }
          ],
          "scatterpolargl": [
           {
            "marker": {
             "colorbar": {
              "outlinewidth": 0,
              "ticks": ""
             }
            },
            "type": "scatterpolargl"
           }
          ],
          "scatterternary": [
           {
            "marker": {
             "colorbar": {
              "outlinewidth": 0,
              "ticks": ""
             }
            },
            "type": "scatterternary"
           }
          ],
          "surface": [
           {
            "colorbar": {
             "outlinewidth": 0,
             "ticks": ""
            },
            "colorscale": [
             [
              0,
              "#0d0887"
             ],
             [
              0.1111111111111111,
              "#46039f"
             ],
             [
              0.2222222222222222,
              "#7201a8"
             ],
             [
              0.3333333333333333,
              "#9c179e"
             ],
             [
              0.4444444444444444,
              "#bd3786"
             ],
             [
              0.5555555555555556,
              "#d8576b"
             ],
             [
              0.6666666666666666,
              "#ed7953"
             ],
             [
              0.7777777777777778,
              "#fb9f3a"
             ],
             [
              0.8888888888888888,
              "#fdca26"
             ],
             [
              1,
              "#f0f921"
             ]
            ],
            "type": "surface"
           }
          ],
          "table": [
           {
            "cells": {
             "fill": {
              "color": "#EBF0F8"
             },
             "line": {
              "color": "white"
             }
            },
            "header": {
             "fill": {
              "color": "#C8D4E3"
             },
             "line": {
              "color": "white"
             }
            },
            "type": "table"
           }
          ]
         },
         "layout": {
          "annotationdefaults": {
           "arrowcolor": "#2a3f5f",
           "arrowhead": 0,
           "arrowwidth": 1
          },
          "autotypenumbers": "strict",
          "coloraxis": {
           "colorbar": {
            "outlinewidth": 0,
            "ticks": ""
           }
          },
          "colorscale": {
           "diverging": [
            [
             0,
             "#8e0152"
            ],
            [
             0.1,
             "#c51b7d"
            ],
            [
             0.2,
             "#de77ae"
            ],
            [
             0.3,
             "#f1b6da"
            ],
            [
             0.4,
             "#fde0ef"
            ],
            [
             0.5,
             "#f7f7f7"
            ],
            [
             0.6,
             "#e6f5d0"
            ],
            [
             0.7,
             "#b8e186"
            ],
            [
             0.8,
             "#7fbc41"
            ],
            [
             0.9,
             "#4d9221"
            ],
            [
             1,
             "#276419"
            ]
           ],
           "sequential": [
            [
             0,
             "#0d0887"
            ],
            [
             0.1111111111111111,
             "#46039f"
            ],
            [
             0.2222222222222222,
             "#7201a8"
            ],
            [
             0.3333333333333333,
             "#9c179e"
            ],
            [
             0.4444444444444444,
             "#bd3786"
            ],
            [
             0.5555555555555556,
             "#d8576b"
            ],
            [
             0.6666666666666666,
             "#ed7953"
            ],
            [
             0.7777777777777778,
             "#fb9f3a"
            ],
            [
             0.8888888888888888,
             "#fdca26"
            ],
            [
             1,
             "#f0f921"
            ]
           ],
           "sequentialminus": [
            [
             0,
             "#0d0887"
            ],
            [
             0.1111111111111111,
             "#46039f"
            ],
            [
             0.2222222222222222,
             "#7201a8"
            ],
            [
             0.3333333333333333,
             "#9c179e"
            ],
            [
             0.4444444444444444,
             "#bd3786"
            ],
            [
             0.5555555555555556,
             "#d8576b"
            ],
            [
             0.6666666666666666,
             "#ed7953"
            ],
            [
             0.7777777777777778,
             "#fb9f3a"
            ],
            [
             0.8888888888888888,
             "#fdca26"
            ],
            [
             1,
             "#f0f921"
            ]
           ]
          },
          "colorway": [
           "#636efa",
           "#EF553B",
           "#00cc96",
           "#ab63fa",
           "#FFA15A",
           "#19d3f3",
           "#FF6692",
           "#B6E880",
           "#FF97FF",
           "#FECB52"
          ],
          "font": {
           "color": "#2a3f5f"
          },
          "geo": {
           "bgcolor": "white",
           "lakecolor": "white",
           "landcolor": "#E5ECF6",
           "showlakes": true,
           "showland": true,
           "subunitcolor": "white"
          },
          "hoverlabel": {
           "align": "left"
          },
          "hovermode": "closest",
          "mapbox": {
           "style": "light"
          },
          "paper_bgcolor": "white",
          "plot_bgcolor": "#E5ECF6",
          "polar": {
           "angularaxis": {
            "gridcolor": "white",
            "linecolor": "white",
            "ticks": ""
           },
           "bgcolor": "#E5ECF6",
           "radialaxis": {
            "gridcolor": "white",
            "linecolor": "white",
            "ticks": ""
           }
          },
          "scene": {
           "xaxis": {
            "backgroundcolor": "#E5ECF6",
            "gridcolor": "white",
            "gridwidth": 2,
            "linecolor": "white",
            "showbackground": true,
            "ticks": "",
            "zerolinecolor": "white"
           },
           "yaxis": {
            "backgroundcolor": "#E5ECF6",
            "gridcolor": "white",
            "gridwidth": 2,
            "linecolor": "white",
            "showbackground": true,
            "ticks": "",
            "zerolinecolor": "white"
           },
           "zaxis": {
            "backgroundcolor": "#E5ECF6",
            "gridcolor": "white",
            "gridwidth": 2,
            "linecolor": "white",
            "showbackground": true,
            "ticks": "",
            "zerolinecolor": "white"
           }
          },
          "shapedefaults": {
           "line": {
            "color": "#2a3f5f"
           }
          },
          "ternary": {
           "aaxis": {
            "gridcolor": "white",
            "linecolor": "white",
            "ticks": ""
           },
           "baxis": {
            "gridcolor": "white",
            "linecolor": "white",
            "ticks": ""
           },
           "bgcolor": "#E5ECF6",
           "caxis": {
            "gridcolor": "white",
            "linecolor": "white",
            "ticks": ""
           }
          },
          "title": {
           "x": 0.05
          },
          "xaxis": {
           "automargin": true,
           "gridcolor": "white",
           "linecolor": "white",
           "ticks": "",
           "title": {
            "standoff": 15
           },
           "zerolinecolor": "white",
           "zerolinewidth": 2
          },
          "yaxis": {
           "automargin": true,
           "gridcolor": "white",
           "linecolor": "white",
           "ticks": "",
           "title": {
            "standoff": 15
           },
           "zerolinecolor": "white",
           "zerolinewidth": 2
          }
         }
        }
       }
      },
      "text/html": [
       "<div>                        <script type=\"text/javascript\">window.PlotlyConfig = {MathJaxConfig: 'local'};</script>\n",
       "        <script charset=\"utf-8\" src=\"https://cdn.plot.ly/plotly-3.0.1.min.js\"></script>                <div id=\"b1bd9547-f03e-496b-94aa-5acd63f39d92\" class=\"plotly-graph-div\" style=\"height:100%; width:100%;\"></div>            <script type=\"text/javascript\">                window.PLOTLYENV=window.PLOTLYENV || {};                                if (document.getElementById(\"b1bd9547-f03e-496b-94aa-5acd63f39d92\")) {                    Plotly.newPlot(                        \"b1bd9547-f03e-496b-94aa-5acd63f39d92\",                        [{\"hovertemplate\":\"feature1=%{x}\\u003cbr\\u003efeature2=%{y}\\u003cbr\\u003etarget=%{z}\\u003cextra\\u003e\\u003c\\u002fextra\\u003e\",\"legendgroup\":\"\",\"marker\":{\"color\":\"#636efa\",\"symbol\":\"circle\"},\"mode\":\"markers\",\"name\":\"\",\"scene\":\"scene\",\"showlegend\":false,\"x\":{\"dtype\":\"f8\",\"bdata\":\"TCnOahqa4D\\u002f0Dq85RsC2vw1s4CXxBPO\\u002f\\u002fuB62rXrt7+3HCA5aUj8Py\\u002fdQWL2U\\u002fS\\u002fdhtViFnI\\u002fr8r\\u002fC1hHM\\u002fCP82krmXxzOs\\u002f2Lpzjx8jsT8nJIRDE9fzP9EE2ut15Nq\\u002fq7svOLxn0b+GkJ4+xkzfvwE0C2h2z\\u002fQ\\u002fzcrDjTCS8D\\u002fFxEZ+xAj3P18X9Xb\\u002foea\\u002fxGptvgrH2b8LY45H4QXQP8IcUuOSdb2\\u002fZ9TQZHR\\u002f4b80ZxCvgj7Iv6elw1bt+uo\\u002fIkywdrhX6j\\u002f6D9enlBj0P8L7Ja\\u002fVFNG\\u002fUAt\\u002fFxBK5b\\u002fGqfxO\\u002fDD6vzDtQmoREOA\\u002fqVFRzlGT1L9svRUgW1QCwN\\u002fvC7XTWOa\\u002flJk9Vw20vr8E00OyVELzP4VJ6oZz6MK\\u002feAlg8Hjz7j\\u002f\\u002fISD1Pyy0P7u1KsX4VO0\\u002foiT2h3G56b\\u002f9HAPGVTbev43KPEcWNbI\\u002f+t7AN+4paz\\u002fdNZsS2kP2P8JJ4y1V4u+\\u002fs\\u002fWq5Tj12L9OKq6EX6rVvzBbWaDkKYG\\u002fqDVuCv4c4D8yBWe2PAvyPw4zPnDOfsw\\u002f6E5DYZj00b\\u002f7jLPjR1qhPwPunwifXsk\\u002fE3zv12g9wz80guR\\u002f3QCuv441w7LprPq\\u002fYoG1Soh7\\u002fL9ouDv4lM7fP8dUqGR2Csm\\u002fZk6aY2SW\\u002f7+3j+NCuK3CP3eABu1egtk\\u002fOphvaBbSyL+VP6mPL5Wwv8wlxD67lua\\u002fkKla7pI83z+JkMJxq0vqvzgI90NREOW\\u002fDk9Dly1S+7+T67DiqqSuv811Y7dcbee\\u002fr2H83tn8+z9ne6pbB6vtv+87EZKUQey\\u002fqpjDDIs98r\\u002fNc4Jfp97xP6\\u002fjT7Vc0eQ\\u002ffUBxgflz6L+\\u002fSL77MoTov\\u002faoQlg4VfM\\u002fX2s1f10u0T\\u002fw0TP441v3PzO88DmsbPQ\\u002f4UZP3cyL+b9YeVi606rgP48p8Dum+Oe\\u002fvZsNoYHK7T8XuUZAil7gP17AmDYDkMg\\u002fbs53lIal2L8Df5GqZVvTv1kakcwCMNw\\u002fCBS+Cdnd4z+uWriAr920P4Cqu\\u002f\\u002fWcNC\\u002fIvZqufLW8T8i2pGpOC7QP0Lbrda\\u002f2\\u002fm\\u002f1N783TU6+r8=\"},\"y\":{\"dtype\":\"f8\",\"bdata\":\"qEn0sQ9++L8fZvFRz7O9v9svCeYVA\\u002fW\\u002f4Ou1DAcyyD+fOO2mKszxv4DjGcu4A\\u002fm\\u002fRSVfTM45j78\\u002fLn0knAcAwB5mHCzjGOy\\u002fsB7y\\u002ffIk+7+9p8uCXGYCQLT2tErdRN6\\u002fXW+1OxQawr+0NDSHEaLDP8VTtUOaC7i\\u002fuDJlD\\u002f5H0T+oDQoQxQjwv\\u002fWTC+CQcOC\\u002fXbxwjllF9D\\u002fgjyqhgTrnP0cfyzjrk+K\\u002fjq4+KR40rb+fIBnA0kj3P0Udx33ru\\u002fM\\u002fFMbzgvHo378CrCYaXtXov\\u002fLNVuDuSui\\u002f6QtTxsZdsj8+33TUwfuWvx8ASqw+\\u002fvy\\u002fijUwxlGh3j\\u002fju\\u002fGp\\u002fTHGvzrNthx+8+C\\u002fzX24yhbkyb\\u002fnXMA61Uzmvw9lSBI5dvo\\u002fWx9XloKH8D+eoOYBFCjTP8ZvofsYbem\\u002f1rDkNOILAUDoJ1mggM\\u002faP8wHOO5Cm9U\\u002f3zyMPxFV8b85+iQ7XhLXP3YXwiKbdMi\\u002fNpRo\\u002f1me\\u002fb9jCjGTI77qP19y1gwRsew\\u002fSNGLBQrj7z+Iwb0blmHhP+iz15051QJArvdgbn+L7j\\u002fjPK0Dxgj6P7G4IrXnfeu\\u002fv8wmIuINA0Bi91BKavbkv7uJMRomqui\\u002f9SoxZdfr3L93PXZiy9bgP2ta7F5wfOE\\u002ffj5dDgXox7\\u002fSOFKYpw\\u002fZv6dYytR7z\\u002f2\\u002f5czqZW4m8T+x\\u002fdN4tc7qP6ZZyW1yh9i\\u002fh0839LxB3L8BDBVgn5X0v4AOlt+f6rw\\u002fGqKuh85JyD+15adzPrqmv2ovDAM4Vu0\\u002fd5wHq1tT5b+B0\\u002fzE+E3vP8r2tkzcHtU\\u002fVrv9EF1r7T8N39AZ7Gz5vwRHrSXfT9G\\u002fZNWHPAr99r+xaED\\u002fL8rjvwaYmuH+QaE\\u002fLey5fqYH179PKwRRH4jSv1JYGcbf08e\\u002fogTP6Jf85T91yFewaTDnv6nyXEnIIdg\\u002fUKsmlIoF77+eHGAfxN\\u002fBvwI8\\u002fKm8G8I\\u002fhTnRkTCJ0L+zVQ3rMEW3v\\u002fXc++CW7+e\\u002fMUQC0I2e\\u002fr\\u002fD\\u002fFmVLJHwvyoLJp5+Md4\\u002fRbLrCevJ77+pxY6c2WvSv0aPKUBI6fS\\u002f\\u002f780rnE0AMA=\"},\"z\":{\"dtype\":\"f8\",\"bdata\":\"LYt9K20PS0AE2t8+XrJEwJrZJUI3jWHAOS1mKlGfWsCN95z92K1qQNVyiwNAoF7AQIv8tTwzO8ALy8ZH54ROwFYcz2yskSxA2Nh50LbNTkC84ZZ9mpZmQO1afYXEGFjAODkKMyrHLUBac4PTHTs7wFaVk9N9smNAG5YNdQ+TWED7ebfuYO1AQMjVtTypxSbA51EPHJ+MVkC+JvL\\u002fwktKQPSjK8Ss7VDAHN2q1MdYI8DBMN2k1HpAQHC3TbAV6V1A2bJyfZ5sSEBs960FEh1VQNvghOSVqElA9XVRhEf1MMBKKTlOjwhNwElpZtLkOFHAdDaAvT0qXsCgk+cikd9lwELdTGsV7lLAfxh4iHQkJEDm9OPHYaVRQO4OYv40mlRA+tKUXdy7VEBOfG9v3\\u002fM+wDAKnAFIawfAFK45PHsfUcB4MrPpodMIwKhu\\u002fD3b31tAMHKTMzm5OsDHz\\u002f6QgPldQABoPTb5AFrAtIOsUWjnPUDPLXH5MDZAQGD3Zzq1PjxA9JYvZ8ACSkDLiRQtA5dbQJ3dmSS9EE5A4EqfimGZJUCEgD9WA40RQJanVSZiAUfAUEyIfzD9AcBwOd\\u002fUBzshQN4NCWZmf1rAZtK8fAoxY8Aa8B8Ovp8sQD2S\\u002fv0nx0DACIRyon1XX8BZhOW3X+o1QMMJwVmNbxnAU3LGstyiMEAxYH2uSaVCwDjYXR\\u002fqOR3Aghge+zZFN0DAef7TgkYQwLNKnFX+GDbA6mpfJ1FTYsBThRrWpno4QHRqWUogMiNAcMRFuQqVN0BXLGlNkLVSwPiEefPr11HAUPBzGMZ4TcBtQKTRX\\u002fRgQIJCfn2co1lAj\\u002f\\u002fhTRN8SMBEg2uMYN1SwMGw6r58dmFA3A+i0SLfOkD8mWJjeGhTQH5rOlA7\\u002fF5Az+3vT1+xWcBJJ88BvRNQQD7GmQlJEFLAEFLiek2mUUD4V+4\\u002fUTQowN5BBjtRRGZAiGmMfJz3TsBy6UHjM6FUwBjyeEToZBFAwE1VkGwXVUCJrpD\\u002fKqosQC6MpCV5xDZAxenUHX7+PUCERKKkyl5QQBqKySNJN2bAf5MQVBNLXcA=\"},\"type\":\"scatter3d\"},{\"x\":{\"dtype\":\"f8\",\"bdata\":\"AAAAAAAAFMDHcRzHcRwPwI7jOI7jOAbAqqqqqqqq+r9wHMdxHMfhv3Acx3Ecx+E\\u002frKqqqqqq+j+Q4ziO4zgGQMhxHMdxHA9AAAAAAAAAFEA=\"},\"y\":{\"dtype\":\"f8\",\"bdata\":\"AAAAAAAAFMDHcRzHcRwPwI7jOI7jOAbAqqqqqqqq+r9wHMdxHMfhv3Acx3Ecx+E\\u002frKqqqqqq+j+Q4ziO4zgGQMhxHMdxHA9AAAAAAAAAFEA=\"},\"z\":{\"dtype\":\"f8\",\"bdata\":\"T7cREfP6eMAeNkpQ7KJ0wO60go\\u002flSnDAe2d2nb3lZ8A0ys43YGtewOeKYWmKFkrAQP20OVdTMUATRIvR8LRVQGqkVOqFimNAyqbja5M6bEB5ul2JBLJ3wEg5lsj9WXPAL3CdD+4DbsDObQ6O4FNlwNvW\\u002fhimR1nAakiDVyyeP8BSZXraH\\u002fFCQGw3W\\u002fCq2FpAFp68+WIcZkB2oEt7cMxuQKK9qQEWaXbAcjziQA8RcsCDdjUAEXJrwCJ0pn4DwmLAguMu+usjVMAR9oa4hx4mwANMGhiUOE1AxSorD2X8X0DClyQJQK5oQBHNWcUmr3BAzMD1eScgdcCcPy65IMhwwNZ8zfAz4GjAdXo+byYwYMBR4L22YwBOwLik+D1J\\u002fyJAWhndKgTAU0APj\\u002f2WD5BiQG+RjBgdQGtA58kNTRX4cUD2w0HyONdzwIuF9GJk\\u002fm7AKoNl4VZOZsCSAa2\\u002fkjxbwJ\\u002f5HXnvuEPAwB88Go0OPkCzDK1JvuNYQLyIZabsIWVAG4v0J\\u002frRbUC+xsHUA0FzQCDHjWpKjnLA3ouMU4dsbMB+if3RebxjwDkO3aDYGFbA3iX8dvbiMsCR9r3Kuk5JQAwAfWh4B15AaILNtcmzZ0BkQq6b6zFwQJTDdVzyiXRAScrZ4ltFccAykiREqtppwNGPlcKcKmHA4BoNgh71UMCeeDpEIL\\u002f6P6LuLoQXy1FAs3mmQ5mVYUAVfDXFpkVqQDo\\u002fYiPaenFAasAp5ODSdUDmmku22vhvwIWYvDTNSGfASCxbZn8xXcALT3rGyKJHwPB0g3\\u002faOjZA++H+otHuVkBgcw5TdidkQMF1ndSD12xAETwWq8jDckBBvd1rzxt3QDqh46b9Zm3A2Z5UJfC2ZMDvOItHxQ1YwLTQtBGptjrAKaFhfeFkRUBU1c7BixJcQAxtdmJTuWZAbm8F5GBpb0DnOMoytwx0QBe6kfO9ZHhAjqd7lyDVasAtpewVEyViwJdFuygL6lLAVA3UWQKfGMDZhwG7VaxPQFZkT\\u002fAim2BAuGbecTBLaUCNtLb5nv1wQL01frqlVXVA7bZFe6yteUA=\",\"shape\":\"10, 10\"},\"type\":\"surface\"}],                        {\"template\":{\"data\":{\"histogram2dcontour\":[{\"type\":\"histogram2dcontour\",\"colorbar\":{\"outlinewidth\":0,\"ticks\":\"\"},\"colorscale\":[[0.0,\"#0d0887\"],[0.1111111111111111,\"#46039f\"],[0.2222222222222222,\"#7201a8\"],[0.3333333333333333,\"#9c179e\"],[0.4444444444444444,\"#bd3786\"],[0.5555555555555556,\"#d8576b\"],[0.6666666666666666,\"#ed7953\"],[0.7777777777777778,\"#fb9f3a\"],[0.8888888888888888,\"#fdca26\"],[1.0,\"#f0f921\"]]}],\"choropleth\":[{\"type\":\"choropleth\",\"colorbar\":{\"outlinewidth\":0,\"ticks\":\"\"}}],\"histogram2d\":[{\"type\":\"histogram2d\",\"colorbar\":{\"outlinewidth\":0,\"ticks\":\"\"},\"colorscale\":[[0.0,\"#0d0887\"],[0.1111111111111111,\"#46039f\"],[0.2222222222222222,\"#7201a8\"],[0.3333333333333333,\"#9c179e\"],[0.4444444444444444,\"#bd3786\"],[0.5555555555555556,\"#d8576b\"],[0.6666666666666666,\"#ed7953\"],[0.7777777777777778,\"#fb9f3a\"],[0.8888888888888888,\"#fdca26\"],[1.0,\"#f0f921\"]]}],\"heatmap\":[{\"type\":\"heatmap\",\"colorbar\":{\"outlinewidth\":0,\"ticks\":\"\"},\"colorscale\":[[0.0,\"#0d0887\"],[0.1111111111111111,\"#46039f\"],[0.2222222222222222,\"#7201a8\"],[0.3333333333333333,\"#9c179e\"],[0.4444444444444444,\"#bd3786\"],[0.5555555555555556,\"#d8576b\"],[0.6666666666666666,\"#ed7953\"],[0.7777777777777778,\"#fb9f3a\"],[0.8888888888888888,\"#fdca26\"],[1.0,\"#f0f921\"]]}],\"contourcarpet\":[{\"type\":\"contourcarpet\",\"colorbar\":{\"outlinewidth\":0,\"ticks\":\"\"}}],\"contour\":[{\"type\":\"contour\",\"colorbar\":{\"outlinewidth\":0,\"ticks\":\"\"},\"colorscale\":[[0.0,\"#0d0887\"],[0.1111111111111111,\"#46039f\"],[0.2222222222222222,\"#7201a8\"],[0.3333333333333333,\"#9c179e\"],[0.4444444444444444,\"#bd3786\"],[0.5555555555555556,\"#d8576b\"],[0.6666666666666666,\"#ed7953\"],[0.7777777777777778,\"#fb9f3a\"],[0.8888888888888888,\"#fdca26\"],[1.0,\"#f0f921\"]]}],\"surface\":[{\"type\":\"surface\",\"colorbar\":{\"outlinewidth\":0,\"ticks\":\"\"},\"colorscale\":[[0.0,\"#0d0887\"],[0.1111111111111111,\"#46039f\"],[0.2222222222222222,\"#7201a8\"],[0.3333333333333333,\"#9c179e\"],[0.4444444444444444,\"#bd3786\"],[0.5555555555555556,\"#d8576b\"],[0.6666666666666666,\"#ed7953\"],[0.7777777777777778,\"#fb9f3a\"],[0.8888888888888888,\"#fdca26\"],[1.0,\"#f0f921\"]]}],\"mesh3d\":[{\"type\":\"mesh3d\",\"colorbar\":{\"outlinewidth\":0,\"ticks\":\"\"}}],\"scatter\":[{\"fillpattern\":{\"fillmode\":\"overlay\",\"size\":10,\"solidity\":0.2},\"type\":\"scatter\"}],\"parcoords\":[{\"type\":\"parcoords\",\"line\":{\"colorbar\":{\"outlinewidth\":0,\"ticks\":\"\"}}}],\"scatterpolargl\":[{\"type\":\"scatterpolargl\",\"marker\":{\"colorbar\":{\"outlinewidth\":0,\"ticks\":\"\"}}}],\"bar\":[{\"error_x\":{\"color\":\"#2a3f5f\"},\"error_y\":{\"color\":\"#2a3f5f\"},\"marker\":{\"line\":{\"color\":\"#E5ECF6\",\"width\":0.5},\"pattern\":{\"fillmode\":\"overlay\",\"size\":10,\"solidity\":0.2}},\"type\":\"bar\"}],\"scattergeo\":[{\"type\":\"scattergeo\",\"marker\":{\"colorbar\":{\"outlinewidth\":0,\"ticks\":\"\"}}}],\"scatterpolar\":[{\"type\":\"scatterpolar\",\"marker\":{\"colorbar\":{\"outlinewidth\":0,\"ticks\":\"\"}}}],\"histogram\":[{\"marker\":{\"pattern\":{\"fillmode\":\"overlay\",\"size\":10,\"solidity\":0.2}},\"type\":\"histogram\"}],\"scattergl\":[{\"type\":\"scattergl\",\"marker\":{\"colorbar\":{\"outlinewidth\":0,\"ticks\":\"\"}}}],\"scatter3d\":[{\"type\":\"scatter3d\",\"line\":{\"colorbar\":{\"outlinewidth\":0,\"ticks\":\"\"}},\"marker\":{\"colorbar\":{\"outlinewidth\":0,\"ticks\":\"\"}}}],\"scattermap\":[{\"type\":\"scattermap\",\"marker\":{\"colorbar\":{\"outlinewidth\":0,\"ticks\":\"\"}}}],\"scattermapbox\":[{\"type\":\"scattermapbox\",\"marker\":{\"colorbar\":{\"outlinewidth\":0,\"ticks\":\"\"}}}],\"scatterternary\":[{\"type\":\"scatterternary\",\"marker\":{\"colorbar\":{\"outlinewidth\":0,\"ticks\":\"\"}}}],\"scattercarpet\":[{\"type\":\"scattercarpet\",\"marker\":{\"colorbar\":{\"outlinewidth\":0,\"ticks\":\"\"}}}],\"carpet\":[{\"aaxis\":{\"endlinecolor\":\"#2a3f5f\",\"gridcolor\":\"white\",\"linecolor\":\"white\",\"minorgridcolor\":\"white\",\"startlinecolor\":\"#2a3f5f\"},\"baxis\":{\"endlinecolor\":\"#2a3f5f\",\"gridcolor\":\"white\",\"linecolor\":\"white\",\"minorgridcolor\":\"white\",\"startlinecolor\":\"#2a3f5f\"},\"type\":\"carpet\"}],\"table\":[{\"cells\":{\"fill\":{\"color\":\"#EBF0F8\"},\"line\":{\"color\":\"white\"}},\"header\":{\"fill\":{\"color\":\"#C8D4E3\"},\"line\":{\"color\":\"white\"}},\"type\":\"table\"}],\"barpolar\":[{\"marker\":{\"line\":{\"color\":\"#E5ECF6\",\"width\":0.5},\"pattern\":{\"fillmode\":\"overlay\",\"size\":10,\"solidity\":0.2}},\"type\":\"barpolar\"}],\"pie\":[{\"automargin\":true,\"type\":\"pie\"}]},\"layout\":{\"autotypenumbers\":\"strict\",\"colorway\":[\"#636efa\",\"#EF553B\",\"#00cc96\",\"#ab63fa\",\"#FFA15A\",\"#19d3f3\",\"#FF6692\",\"#B6E880\",\"#FF97FF\",\"#FECB52\"],\"font\":{\"color\":\"#2a3f5f\"},\"hovermode\":\"closest\",\"hoverlabel\":{\"align\":\"left\"},\"paper_bgcolor\":\"white\",\"plot_bgcolor\":\"#E5ECF6\",\"polar\":{\"bgcolor\":\"#E5ECF6\",\"angularaxis\":{\"gridcolor\":\"white\",\"linecolor\":\"white\",\"ticks\":\"\"},\"radialaxis\":{\"gridcolor\":\"white\",\"linecolor\":\"white\",\"ticks\":\"\"}},\"ternary\":{\"bgcolor\":\"#E5ECF6\",\"aaxis\":{\"gridcolor\":\"white\",\"linecolor\":\"white\",\"ticks\":\"\"},\"baxis\":{\"gridcolor\":\"white\",\"linecolor\":\"white\",\"ticks\":\"\"},\"caxis\":{\"gridcolor\":\"white\",\"linecolor\":\"white\",\"ticks\":\"\"}},\"coloraxis\":{\"colorbar\":{\"outlinewidth\":0,\"ticks\":\"\"}},\"colorscale\":{\"sequential\":[[0.0,\"#0d0887\"],[0.1111111111111111,\"#46039f\"],[0.2222222222222222,\"#7201a8\"],[0.3333333333333333,\"#9c179e\"],[0.4444444444444444,\"#bd3786\"],[0.5555555555555556,\"#d8576b\"],[0.6666666666666666,\"#ed7953\"],[0.7777777777777778,\"#fb9f3a\"],[0.8888888888888888,\"#fdca26\"],[1.0,\"#f0f921\"]],\"sequentialminus\":[[0.0,\"#0d0887\"],[0.1111111111111111,\"#46039f\"],[0.2222222222222222,\"#7201a8\"],[0.3333333333333333,\"#9c179e\"],[0.4444444444444444,\"#bd3786\"],[0.5555555555555556,\"#d8576b\"],[0.6666666666666666,\"#ed7953\"],[0.7777777777777778,\"#fb9f3a\"],[0.8888888888888888,\"#fdca26\"],[1.0,\"#f0f921\"]],\"diverging\":[[0,\"#8e0152\"],[0.1,\"#c51b7d\"],[0.2,\"#de77ae\"],[0.3,\"#f1b6da\"],[0.4,\"#fde0ef\"],[0.5,\"#f7f7f7\"],[0.6,\"#e6f5d0\"],[0.7,\"#b8e186\"],[0.8,\"#7fbc41\"],[0.9,\"#4d9221\"],[1,\"#276419\"]]},\"xaxis\":{\"gridcolor\":\"white\",\"linecolor\":\"white\",\"ticks\":\"\",\"title\":{\"standoff\":15},\"zerolinecolor\":\"white\",\"automargin\":true,\"zerolinewidth\":2},\"yaxis\":{\"gridcolor\":\"white\",\"linecolor\":\"white\",\"ticks\":\"\",\"title\":{\"standoff\":15},\"zerolinecolor\":\"white\",\"automargin\":true,\"zerolinewidth\":2},\"scene\":{\"xaxis\":{\"backgroundcolor\":\"#E5ECF6\",\"gridcolor\":\"white\",\"linecolor\":\"white\",\"showbackground\":true,\"ticks\":\"\",\"zerolinecolor\":\"white\",\"gridwidth\":2},\"yaxis\":{\"backgroundcolor\":\"#E5ECF6\",\"gridcolor\":\"white\",\"linecolor\":\"white\",\"showbackground\":true,\"ticks\":\"\",\"zerolinecolor\":\"white\",\"gridwidth\":2},\"zaxis\":{\"backgroundcolor\":\"#E5ECF6\",\"gridcolor\":\"white\",\"linecolor\":\"white\",\"showbackground\":true,\"ticks\":\"\",\"zerolinecolor\":\"white\",\"gridwidth\":2}},\"shapedefaults\":{\"line\":{\"color\":\"#2a3f5f\"}},\"annotationdefaults\":{\"arrowcolor\":\"#2a3f5f\",\"arrowhead\":0,\"arrowwidth\":1},\"geo\":{\"bgcolor\":\"white\",\"landcolor\":\"#E5ECF6\",\"subunitcolor\":\"white\",\"showland\":true,\"showlakes\":true,\"lakecolor\":\"white\"},\"title\":{\"x\":0.05},\"mapbox\":{\"style\":\"light\"}}},\"scene\":{\"domain\":{\"x\":[0.0,1.0],\"y\":[0.0,1.0]},\"xaxis\":{\"title\":{\"text\":\"feature1\"}},\"yaxis\":{\"title\":{\"text\":\"feature2\"}},\"zaxis\":{\"title\":{\"text\":\"target\"}}},\"legend\":{\"tracegroupgap\":0},\"margin\":{\"t\":60}},                        {\"responsive\": true}                    )                };            </script>        </div>"
      ],
      "text/plain": [
       "Figure({\n",
       "    'data': [{'hovertemplate': 'feature1=%{x}<br>feature2=%{y}<br>target=%{z}<extra></extra>',\n",
       "              'legendgroup': '',\n",
       "              'marker': {'color': '#636efa', 'symbol': 'circle'},\n",
       "              'mode': 'markers',\n",
       "              'name': '',\n",
       "              'scene': 'scene',\n",
       "              'showlegend': False,\n",
       "              'type': 'scatter3d',\n",
       "              'x': {'bdata': ('TCnOahqa4D/0Dq85RsC2vw1s4CXxBP' ... 'GpOC7QP0Lbrda/2/m/1N783TU6+r8='),\n",
       "                    'dtype': 'f8'},\n",
       "              'y': {'bdata': ('qEn0sQ9++L8fZvFRz7O9v9svCeYVA/' ... '6c2WvSv0aPKUBI6fS//780rnE0AMA='),\n",
       "                    'dtype': 'f8'},\n",
       "              'z': {'bdata': ('LYt9K20PS0AE2t8+XrJEwJrZJUI3jW' ... 'Kkyl5QQBqKySNJN2bAf5MQVBNLXcA='),\n",
       "                    'dtype': 'f8'}},\n",
       "             {'type': 'surface',\n",
       "              'x': {'bdata': ('AAAAAAAAFMDHcRzHcRwPwI7jOI7jOA' ... 'iO4zgGQMhxHMdxHA9AAAAAAAAAFEA='),\n",
       "                    'dtype': 'f8'},\n",
       "              'y': {'bdata': ('AAAAAAAAFMDHcRzHcRwPwI7jOI7jOA' ... 'iO4zgGQMhxHMdxHA9AAAAAAAAAFEA='),\n",
       "                    'dtype': 'f8'},\n",
       "              'z': {'bdata': ('T7cREfP6eMAeNkpQ7KJ0wO60go/lSn' ... 'b5nv1wQL01frqlVXVA7bZFe6yteUA='),\n",
       "                    'dtype': 'f8',\n",
       "                    'shape': '10, 10'}}],\n",
       "    'layout': {'legend': {'tracegroupgap': 0},\n",
       "               'margin': {'t': 60},\n",
       "               'scene': {'domain': {'x': [0.0, 1.0], 'y': [0.0, 1.0]},\n",
       "                         'xaxis': {'title': {'text': 'feature1'}},\n",
       "                         'yaxis': {'title': {'text': 'feature2'}},\n",
       "                         'zaxis': {'title': {'text': 'target'}}},\n",
       "               'template': '...'}\n",
       "})"
      ]
     },
     "execution_count": 29,
     "metadata": {},
     "output_type": "execute_result"
    }
   ],
   "source": [
    "\n",
    "x = np.linspace(-5, 5, 10)\n",
    "y = np.linspace(-5, 5, 10)\n",
    "xGrid, yGrid = np.meshgrid(y, x)\n",
    "final = np.vstack((xGrid.ravel().reshape(1,100),yGrid.ravel().reshape(1,100))).T\n",
    "z_final = lr.predict(final).reshape(10,10)\n",
    "z = z_final\n",
    "fig = px.scatter_3d(df, x='feature1', y='feature2', z='target')\n",
    "fig.add_trace(go.Surface(x = x, y = y, z =z ))\n",
    "# fig.show()\n",
    "     \n"
   ]
  },
  {
   "cell_type": "code",
   "execution_count": null,
   "id": "324a9a93",
   "metadata": {},
   "outputs": [],
   "source": []
  }
 ],
 "metadata": {
  "kernelspec": {
   "display_name": ".venv",
   "language": "python",
   "name": "python3"
  },
  "language_info": {
   "codemirror_mode": {
    "name": "ipython",
    "version": 3
   },
   "file_extension": ".py",
   "mimetype": "text/x-python",
   "name": "python",
   "nbconvert_exporter": "python",
   "pygments_lexer": "ipython3",
   "version": "3.10.12"
  }
 },
 "nbformat": 4,
 "nbformat_minor": 5
}
