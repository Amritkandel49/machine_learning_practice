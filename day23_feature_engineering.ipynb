{
 "cells": [
  {
   "cell_type": "markdown",
   "id": "996a0166",
   "metadata": {},
   "source": [
    "# What is Feature engineering?"
   ]
  },
  {
   "cell_type": "markdown",
   "id": "ac70b741",
   "metadata": {},
   "source": [
    "Feature Engineering involves creating new features or modifying existing ones to improve a model's performance, helping capture hidden patterns in the data."
   ]
  },
  {
   "cell_type": "code",
   "execution_count": null,
   "id": "e8bf613e",
   "metadata": {
    "vscode": {
     "languageId": "plaintext"
    }
   },
   "outputs": [],
   "source": []
  }
 ],
 "metadata": {
  "language_info": {
   "name": "python"
  }
 },
 "nbformat": 4,
 "nbformat_minor": 5
}
